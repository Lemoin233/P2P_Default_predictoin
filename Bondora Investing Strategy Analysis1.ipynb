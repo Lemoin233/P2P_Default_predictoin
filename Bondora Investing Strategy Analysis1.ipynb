{
 "cells": [
  {
   "cell_type": "markdown",
   "id": "1b524442",
   "metadata": {},
   "source": [
    "# Bondora Data Preprocessing"
   ]
  },
  {
   "cell_type": "code",
   "execution_count": 1,
   "id": "a1f25388",
   "metadata": {},
   "outputs": [],
   "source": [
    "import numpy as np # linear algebra\n",
    "import pandas as pd # data processing, CSV file I/O (e.g. pd.read_csv)\n",
    "# To display all the columns of dataframe\n",
    "pd.set_option('display.max_columns', 500)\n",
    "import warnings\n",
    "import matplotlib.pyplot as plt\n",
    "import seaborn as sns\n",
    "warnings.filterwarnings(\"ignore\")"
   ]
  },
  {
   "cell_type": "code",
   "execution_count": 2,
   "id": "d2317812",
   "metadata": {},
   "outputs": [],
   "source": [
    "df=pd.read_csv('LoanData.csv',low_memory=False)"
   ]
  },
  {
   "cell_type": "markdown",
   "id": "c4832d43",
   "metadata": {},
   "source": [
    "## Percentage of Missing Values"
   ]
  },
  {
   "cell_type": "code",
   "execution_count": 3,
   "id": "5d0f8cb5",
   "metadata": {},
   "outputs": [
    {
     "data": {
      "text/plain": [
       "City                                      100.0\n",
       "County                                    100.0\n",
       "DateOfBirth                               100.0\n",
       "EmploymentPosition                        100.0\n",
       "Rating_V0                                  97.0\n",
       "EL_V0                                      97.0\n",
       "CreditScoreEsEquifaxRisk                   93.0\n",
       "EL_V1                                      93.0\n",
       "Rating_V1                                  93.0\n",
       "Rating_V2                                  86.0\n",
       "WorkExperience                             80.0\n",
       "NrOfDependants                             80.0\n",
       "GracePeriodStart                           77.0\n",
       "GracePeriodEnd                             77.0\n",
       "CreditScoreFiAsiakasTietoRiskGrade         76.0\n",
       "PlannedPrincipalTillDate                   70.0\n",
       "PreviousEarlyRepaymentsBefoleLoan          68.0\n",
       "ReScheduledOn                              65.0\n",
       "NextPaymentDate                            63.0\n",
       "EAD2                                       60.0\n",
       "DefaultDate                                60.0\n",
       "PlannedInterestPostDefault                 60.0\n",
       "PlannedPrincipalPostDefault                60.0\n",
       "PrincipalRecovery                          60.0\n",
       "InterestRecovery                           60.0\n",
       "EAD1                                       60.0\n",
       "ActiveLateCategory                         59.0\n",
       "DebtOccuredOn                              59.0\n",
       "CurrentDebtDaysPrimary                     59.0\n",
       "InterestAndPenaltyWriteOffs                58.0\n",
       "PrincipalWriteOffs                         58.0\n",
       "PrincipalDebtServicingCost                 58.0\n",
       "InterestAndPenaltyDebtServicingCost        58.0\n",
       "DebtOccuredOnForSecondary                  55.0\n",
       "CurrentDebtDaysSecondary                   55.0\n",
       "ActiveLateLastPaymentCategory              55.0\n",
       "ContractEndDate                            43.0\n",
       "CreditScoreEeMini                          41.0\n",
       "RecoveryStage                              38.0\n",
       "NrOfScheduledPayments                      37.0\n",
       "NextPaymentNr                              37.0\n",
       "PreviousRepaymentsBeforeLoan               35.0\n",
       "StageActiveSince                           34.0\n",
       "WorseLateCategory                          30.0\n",
       "CreditScoreEsMicroL                        17.0\n",
       "PrincipalOverdueBySchedule                  8.0\n",
       "InterestAndPenaltyBalance                   4.0\n",
       "MonthlyPayment                              4.0\n",
       "LastPaymentOn                               4.0\n",
       "PlannedInterestTillDate                     2.0\n",
       "Rating                                      2.0\n",
       "ModelVersion                                1.0\n",
       "ProbabilityOfDefault                        1.0\n",
       "ExpectedReturn                              1.0\n",
       "LossGivenDefault                            1.0\n",
       "ExpectedLoss                                1.0\n",
       "EmploymentDurationCurrentEmployer           1.0\n",
       "HomeOwnershipType                           1.0\n",
       "InterestAndPenaltyPaymentsMade              0.0\n",
       "BidsApi                                     0.0\n",
       "LoanNumber                                  0.0\n",
       "ListedOnUTC                                 0.0\n",
       "BiddingStartedOn                            0.0\n",
       "MaturityDate_Original                       0.0\n",
       "Status                                      0.0\n",
       "Restructured                                0.0\n",
       "FirstPaymentDate                            0.0\n",
       "BidsPortfolioManager                        0.0\n",
       "BidsManual                                  0.0\n",
       "ApplicationSignedHour                       0.0\n",
       "PreviousEarlyRepaymentsCountBeforeLoan      0.0\n",
       "UserName                                    0.0\n",
       "AmountOfPreviousLoansBeforeLoan             0.0\n",
       "NoOfPreviousLoansBeforeLoan                 0.0\n",
       "PrincipalBalance                            0.0\n",
       "LoanDate                                    0.0\n",
       "NewCreditCustomer                           0.0\n",
       "LoanApplicationStartedDate                  0.0\n",
       "PrincipalPaymentsMade                       0.0\n",
       "MaturityDate_Last                           0.0\n",
       "LanguageCode                                0.0\n",
       "ApplicationSignedWeekday                    0.0\n",
       "DebtToIncome                                0.0\n",
       "MaritalStatus                               0.0\n",
       "OccupationArea                              0.0\n",
       "IncomeFromPrincipalEmployer                 0.0\n",
       "IncomeFromPension                           0.0\n",
       "IncomeFromFamilyAllowance                   0.0\n",
       "IncomeFromSocialWelfare                     0.0\n",
       "IncomeFromLeavePay                          0.0\n",
       "IncomeFromChildSupport                      0.0\n",
       "IncomeOther                                 0.0\n",
       "IncomeTotal                                 0.0\n",
       "ExistingLiabilities                         0.0\n",
       "LiabilitiesTotal                            0.0\n",
       "RefinanceLiabilities                        0.0\n",
       "FreeCash                                    0.0\n",
       "VerificationType                            0.0\n",
       "MonthlyPaymentDay                           0.0\n",
       "ActiveScheduleFirstPaymentReached           0.0\n",
       "LoanId                                      0.0\n",
       "Education                                   0.0\n",
       "UseOfLoan                                   0.0\n",
       "LoanDuration                                0.0\n",
       "Interest                                    0.0\n",
       "Amount                                      0.0\n",
       "AppliedAmount                               0.0\n",
       "Country                                     0.0\n",
       "Gender                                      0.0\n",
       "Age                                         0.0\n",
       "EmploymentStatus                            0.0\n",
       "ReportAsOfEOD                               0.0\n",
       "dtype: float64"
      ]
     },
     "execution_count": 3,
     "metadata": {},
     "output_type": "execute_result"
    }
   ],
   "source": [
    "pd.set_option('display.max_rows', None)\n",
    "df_missing = round(df.isnull().sum()/len(df.index), 2)*100\n",
    "df_missing.sort_values(ascending=False)"
   ]
  },
  {
   "cell_type": "code",
   "execution_count": 4,
   "id": "1c007e7b",
   "metadata": {},
   "outputs": [
    {
     "name": "stdout",
     "output_type": "stream",
     "text": [
      "Index(['DateOfBirth', 'County', 'City', 'NrOfDependants', 'EmploymentPosition',\n",
      "       'WorkExperience', 'PlannedPrincipalTillDate', 'CurrentDebtDaysPrimary',\n",
      "       'DebtOccuredOn', 'CurrentDebtDaysSecondary',\n",
      "       'DebtOccuredOnForSecondary', 'DefaultDate',\n",
      "       'PlannedPrincipalPostDefault', 'PlannedInterestPostDefault', 'EAD1',\n",
      "       'EAD2', 'PrincipalRecovery', 'InterestRecovery', 'EL_V0', 'Rating_V0',\n",
      "       'EL_V1', 'Rating_V1', 'Rating_V2', 'ActiveLateCategory',\n",
      "       'CreditScoreEsEquifaxRisk', 'CreditScoreFiAsiakasTietoRiskGrade',\n",
      "       'PrincipalWriteOffs', 'InterestAndPenaltyWriteOffs',\n",
      "       'PreviousEarlyRepaymentsBefoleLoan', 'GracePeriodStart',\n",
      "       'GracePeriodEnd', 'NextPaymentDate', 'ReScheduledOn',\n",
      "       'PrincipalDebtServicingCost', 'InterestAndPenaltyDebtServicingCost',\n",
      "       'ActiveLateLastPaymentCategory'],\n",
      "      dtype='object')\n"
     ]
    }
   ],
   "source": [
    "# removing the columns having more than 50% missing values\n",
    "missing_columns = df.columns[100*(df.isnull().sum()/len(df.index)) > 50]\n",
    "print(missing_columns)"
   ]
  },
  {
   "cell_type": "code",
   "execution_count": 5,
   "id": "ba26337b",
   "metadata": {},
   "outputs": [],
   "source": [
    "miss_col=['DateOfBirth', 'County', 'City', 'NrOfDependants', 'EmploymentPosition',\n",
    "       'WorkExperience', 'PlannedPrincipalTillDate', 'CurrentDebtDaysPrimary',\n",
    "       'DebtOccuredOn', 'CurrentDebtDaysSecondary',\n",
    "       'DebtOccuredOnForSecondary', 'DefaultDate',\n",
    "       'PlannedPrincipalPostDefault', 'PlannedInterestPostDefault', 'EAD1',\n",
    "       'EAD2', 'PrincipalRecovery', 'InterestRecovery', 'EL_V0', 'Rating_V0',\n",
    "       'EL_V1', 'Rating_V1', 'Rating_V2', 'ActiveLateCategory',\n",
    "       'CreditScoreEsEquifaxRisk', 'CreditScoreFiAsiakasTietoRiskGrade',\n",
    "       'PrincipalWriteOffs', 'InterestAndPenaltyWriteOffs',\n",
    "       'GracePeriodStart',\n",
    "       'GracePeriodEnd', 'NextPaymentDate', 'ReScheduledOn',\n",
    "       'PrincipalDebtServicingCost', 'InterestAndPenaltyDebtServicingCost']"
   ]
  },
  {
   "cell_type": "code",
   "execution_count": 6,
   "id": "0b4be6b2",
   "metadata": {},
   "outputs": [
    {
     "name": "stdout",
     "output_type": "stream",
     "text": [
      "(182017, 78)\n"
     ]
    }
   ],
   "source": [
    "loan = df.drop(miss_col, axis=1)\n",
    "print(loan.shape)"
   ]
  },
  {
   "cell_type": "markdown",
   "id": "81bbc942",
   "metadata": {},
   "source": [
    "## drop meaningless columns"
   ]
  },
  {
   "cell_type": "code",
   "execution_count": 7,
   "id": "f9037493",
   "metadata": {},
   "outputs": [],
   "source": [
    "cols_del = ['ReportAsOfEOD', 'LoanId', 'LoanNumber', 'ListedOnUTC', \n",
    "       'BiddingStartedOn','UserName','NextPaymentNr',\n",
    "       'NrOfScheduledPayments','IncomeFromPrincipalEmployer', 'IncomeFromPension',\n",
    "       'IncomeFromFamilyAllowance', 'IncomeFromSocialWelfare',\n",
    "       'IncomeFromLeavePay', 'IncomeFromChildSupport', 'IncomeOther','LoanApplicationStartedDate','ApplicationSignedHour',\n",
    "       'ApplicationSignedWeekday','ActiveScheduleFirstPaymentReached', 'PlannedInterestTillDate',\n",
    "       'ExpectedLoss', 'LossGivenDefault', 'ExpectedReturn',\n",
    "       'ProbabilityOfDefault', 'PrincipalOverdueBySchedule',\n",
    "       'StageActiveSince', 'ModelVersion','WorseLateCategory']"
   ]
  },
  {
   "cell_type": "code",
   "execution_count": 8,
   "id": "0b0d2672",
   "metadata": {},
   "outputs": [],
   "source": [
    "loan = loan.drop(cols_del,axis=1)"
   ]
  },
  {
   "cell_type": "markdown",
   "id": "ad26e607",
   "metadata": {},
   "source": [
    "## Creating Target Variable"
   ]
  },
  {
   "cell_type": "code",
   "execution_count": 9,
   "id": "fd7cbb27",
   "metadata": {},
   "outputs": [
    {
     "data": {
      "text/plain": [
       "Late       67347\n",
       "Current    61001\n",
       "Repaid     53669\n",
       "Name: Status, dtype: int64"
      ]
     },
     "execution_count": 9,
     "metadata": {},
     "output_type": "execute_result"
    }
   ],
   "source": [
    "loan['Status'].value_counts()"
   ]
  },
  {
   "cell_type": "code",
   "execution_count": 10,
   "id": "45469f83",
   "metadata": {},
   "outputs": [],
   "source": [
    "# remove Current Status records\n",
    "loan = loan[loan['Status'] != 'Current']"
   ]
  },
  {
   "cell_type": "code",
   "execution_count": 11,
   "id": "ca40f0ad",
   "metadata": {},
   "outputs": [
    {
     "data": {
      "text/plain": [
       "180+       43885\n",
       "16-30       9372\n",
       "31-60       6430\n",
       "1��7��      3696\n",
       "61-90       3455\n",
       "91-120      2749\n",
       "8��15��     2736\n",
       "121-150     2350\n",
       "151-180     2259\n",
       "Name: ActiveLateLastPaymentCategory, dtype: int64"
      ]
     },
     "execution_count": 11,
     "metadata": {},
     "output_type": "execute_result"
    }
   ],
   "source": [
    "loan['ActiveLateLastPaymentCategory'].value_counts()"
   ]
  },
  {
   "cell_type": "code",
   "execution_count": 12,
   "id": "998d93db",
   "metadata": {},
   "outputs": [],
   "source": [
    "loan[\"Default0\"] = loan['Status'].apply(lambda x: 0 if x=='Repaid' else 1)"
   ]
  },
  {
   "cell_type": "code",
   "execution_count": 13,
   "id": "52f98f01",
   "metadata": {},
   "outputs": [],
   "source": [
    "loan[\"Default1\"] = loan['ActiveLateLastPaymentCategory'].apply(lambda x: 1 if x == '91-120' or x=='121-150' or x == '151-180' or x=='180+' else 0)"
   ]
  },
  {
   "cell_type": "code",
   "execution_count": 14,
   "id": "4011ffca",
   "metadata": {},
   "outputs": [],
   "source": [
    "# We define the loan is default if it is not repaid and its overdue by more than 90 days\n",
    "loan[\"Default\"] = loan['Default0']*loan['Default1']"
   ]
  },
  {
   "cell_type": "code",
   "execution_count": 15,
   "id": "aee3d2a2",
   "metadata": {},
   "outputs": [],
   "source": [
    "loan = loan.drop(['Status','Default0','Default1','ActiveLateLastPaymentCategory'],axis=1)"
   ]
  },
  {
   "cell_type": "code",
   "execution_count": 16,
   "id": "ed1725f9",
   "metadata": {},
   "outputs": [],
   "source": [
    "loan.to_csv('Bondora_preprocessed.csv',index=False)"
   ]
  },
  {
   "cell_type": "markdown",
   "id": "2e47f6ca",
   "metadata": {},
   "source": [
    "# Feature Selection"
   ]
  },
  {
   "cell_type": "code",
   "execution_count": 17,
   "id": "6a63b483",
   "metadata": {},
   "outputs": [],
   "source": [
    "import numpy as np # linear algebra\n",
    "import pandas as pd \n",
    "pd.set_option('display.max_columns', 500)\n",
    "from sklearn import preprocessing\n",
    "import warnings\n",
    "import matplotlib.pyplot as plt\n",
    "import seaborn as sns\n",
    "warnings.filterwarnings(\"ignore\")"
   ]
  },
  {
   "cell_type": "code",
   "execution_count": 18,
   "id": "8b1160b6",
   "metadata": {},
   "outputs": [],
   "source": [
    "df_original = pd.read_csv('Loandata.csv',low_memory=False)\n",
    "df=pd.read_csv('Bondora_preprocessed.csv',low_memory=False)"
   ]
  },
  {
   "cell_type": "code",
   "execution_count": 19,
   "id": "3450ea65",
   "metadata": {},
   "outputs": [
    {
     "data": {
      "image/png": "[encoded data removed]",
      "text/plain": [
       "<Figure size 1800x864 with 2 Axes>"
      ]
     },
     "metadata": {
      "needs_background": "light"
     },
     "output_type": "display_data"
    }
   ],
   "source": [
    "corr_matrix = df.corr()\n",
    "fig, ax = plt.subplots()\n",
    "fig.set_size_inches(25, 12)\n",
    "sns.heatmap(corr_matrix, annot=True, fmt=\".2f\", cmap=\"RdBu\", center=0, ax=ax) \n",
    "\n",
    "plt.show()"
   ]
  },
  {
   "cell_type": "markdown",
   "id": "715f66d6",
   "metadata": {},
   "source": [
    "## raw feature list\n",
    "We picked a list of raw features that may be correlated to our target variables in general means."
   ]
  },
  {
   "cell_type": "code",
   "execution_count": 20,
   "id": "98c87537",
   "metadata": {},
   "outputs": [],
   "source": [
    "raw_features = [\"PrincipalBalance\",  \"Country\",\n",
    "             \"InterestAndPenaltyBalance\", \"Interest\", \"LoanDuration\", \"Gender\", \"NewCreditCustomer\",\n",
    "             \"Restructured\", \"AppliedAmount\",\n",
    "             \"Age\", \"VerificationType\",\n",
    "             \"HomeOwnershipType\", \"LiabilitiesTotal\",\n",
    "             \"IncomeTotal\",\"CreditScoreEeMini\",\n",
    "             \"Education\", \"MaritalStatus\",\n",
    "             \"EmploymentStatus\",\"Default\"]\n",
    "df = df.loc[:,raw_features]"
   ]
  },
  {
   "cell_type": "markdown",
   "id": "616fe49f",
   "metadata": {},
   "source": [
    "## DebtToIncomeRatio\n",
    "Debt to income ratio is more meaningful than both existingliabilities and liabilitiestotal. We will create a new variable DebtToIncomeRatio and drop existingliabilities and liabilitiestotal."
   ]
  },
  {
   "cell_type": "code",
   "execution_count": 21,
   "id": "0744df5d",
   "metadata": {},
   "outputs": [
    {
     "name": "stdout",
     "output_type": "stream",
     "text": [
      "count    1.209760e+05\n",
      "mean              inf\n",
      "std               NaN\n",
      "min      0.000000e+00\n",
      "25%      4.571429e-02\n",
      "50%      2.617395e-01\n",
      "75%      4.985779e-01\n",
      "max               inf\n",
      "Name: DebtToIncomeRatio, dtype: float64\n",
      "Uh oh, the describe() has issues. it's returning infinity and NaN!\n"
     ]
    },
    {
     "data": {
      "text/html": [
       "<div>\n",
       "<style scoped>\n",
       "    .dataframe tbody tr th:only-of-type {\n",
       "        vertical-align: middle;\n",
       "    }\n",
       "\n",
       "    .dataframe tbody tr th {\n",
       "        vertical-align: top;\n",
       "    }\n",
       "\n",
       "    .dataframe thead th {\n",
       "        text-align: right;\n",
       "    }\n",
       "</style>\n",
       "<table border=\"1\" class=\"dataframe\">\n",
       "  <thead>\n",
       "    <tr style=\"text-align: right;\">\n",
       "      <th></th>\n",
       "      <th>IncomeTotal</th>\n",
       "      <th>LiabilitiesTotal</th>\n",
       "      <th>DebtToIncomeRatio</th>\n",
       "      <th>Default</th>\n",
       "    </tr>\n",
       "  </thead>\n",
       "  <tbody>\n",
       "    <tr>\n",
       "      <th>2076</th>\n",
       "      <td>0.0</td>\n",
       "      <td>2039.0</td>\n",
       "      <td>inf</td>\n",
       "      <td>0</td>\n",
       "    </tr>\n",
       "    <tr>\n",
       "      <th>2382</th>\n",
       "      <td>0.0</td>\n",
       "      <td>3295.0</td>\n",
       "      <td>inf</td>\n",
       "      <td>0</td>\n",
       "    </tr>\n",
       "    <tr>\n",
       "      <th>2216</th>\n",
       "      <td>0.0</td>\n",
       "      <td>3350.0</td>\n",
       "      <td>inf</td>\n",
       "      <td>0</td>\n",
       "    </tr>\n",
       "    <tr>\n",
       "      <th>78402</th>\n",
       "      <td>0.0</td>\n",
       "      <td>1500.0</td>\n",
       "      <td>inf</td>\n",
       "      <td>0</td>\n",
       "    </tr>\n",
       "    <tr>\n",
       "      <th>2236</th>\n",
       "      <td>0.0</td>\n",
       "      <td>4847.0</td>\n",
       "      <td>inf</td>\n",
       "      <td>0</td>\n",
       "    </tr>\n",
       "    <tr>\n",
       "      <th>3359</th>\n",
       "      <td>0.0</td>\n",
       "      <td>200.0</td>\n",
       "      <td>inf</td>\n",
       "      <td>0</td>\n",
       "    </tr>\n",
       "    <tr>\n",
       "      <th>2083</th>\n",
       "      <td>0.0</td>\n",
       "      <td>3485.0</td>\n",
       "      <td>inf</td>\n",
       "      <td>0</td>\n",
       "    </tr>\n",
       "    <tr>\n",
       "      <th>3317</th>\n",
       "      <td>0.0</td>\n",
       "      <td>150.0</td>\n",
       "      <td>inf</td>\n",
       "      <td>0</td>\n",
       "    </tr>\n",
       "    <tr>\n",
       "      <th>3279</th>\n",
       "      <td>0.0</td>\n",
       "      <td>48.0</td>\n",
       "      <td>inf</td>\n",
       "      <td>0</td>\n",
       "    </tr>\n",
       "    <tr>\n",
       "      <th>3246</th>\n",
       "      <td>0.0</td>\n",
       "      <td>166.0</td>\n",
       "      <td>inf</td>\n",
       "      <td>0</td>\n",
       "    </tr>\n",
       "  </tbody>\n",
       "</table>\n",
       "</div>"
      ],
      "text/plain": [
       "       IncomeTotal  LiabilitiesTotal  DebtToIncomeRatio  Default\n",
       "2076           0.0            2039.0                inf        0\n",
       "2382           0.0            3295.0                inf        0\n",
       "2216           0.0            3350.0                inf        0\n",
       "78402          0.0            1500.0                inf        0\n",
       "2236           0.0            4847.0                inf        0\n",
       "3359           0.0             200.0                inf        0\n",
       "2083           0.0            3485.0                inf        0\n",
       "3317           0.0             150.0                inf        0\n",
       "3279           0.0              48.0                inf        0\n",
       "3246           0.0             166.0                inf        0"
      ]
     },
     "execution_count": 21,
     "metadata": {},
     "output_type": "execute_result"
    }
   ],
   "source": [
    "# Round income to nearest Euro\n",
    "df[\"IncomeTotal\"] = df[\"IncomeTotal\"].round() \n",
    "# Ditto for liabilities.\n",
    "df[\"LiabilitiesTotal\"] = df[\"LiabilitiesTotal\"].round()\n",
    "\n",
    "# Compute new attribute.\n",
    "df[\"DebtToIncomeRatio\"] = df[\"LiabilitiesTotal\"]/df[\"IncomeTotal\"]\n",
    "\n",
    "print(df.DebtToIncomeRatio.describe())\n",
    "print(\"Uh oh, the describe() has issues. it's returning infinity and NaN!\")\n",
    "\n",
    "# Digging deeper, we see this results when income is equal to 0.\n",
    "# Dividing by zero is either NaN or infinite.\n",
    "bad_ratio_index = df.DebtToIncomeRatio.sort_values(ascending=False).head(25).index\n",
    "df.loc[bad_ratio_index, [\"IncomeTotal\", \"LiabilitiesTotal\", \"DebtToIncomeRatio\", \"Default\"]].head(10)"
   ]
  },
  {
   "cell_type": "markdown",
   "id": "d9a4bf9e",
   "metadata": {},
   "source": [
    "When income is equal to 0, let us set the DebtToIncome ratio equal to liabilities. In that situation, the DebtToIncome ratio will be a very high number."
   ]
  },
  {
   "cell_type": "code",
   "execution_count": 22,
   "id": "880021cf",
   "metadata": {},
   "outputs": [
    {
     "data": {
      "text/html": [
       "<div>\n",
       "<style scoped>\n",
       "    .dataframe tbody tr th:only-of-type {\n",
       "        vertical-align: middle;\n",
       "    }\n",
       "\n",
       "    .dataframe tbody tr th {\n",
       "        vertical-align: top;\n",
       "    }\n",
       "\n",
       "    .dataframe thead th {\n",
       "        text-align: right;\n",
       "    }\n",
       "</style>\n",
       "<table border=\"1\" class=\"dataframe\">\n",
       "  <thead>\n",
       "    <tr style=\"text-align: right;\">\n",
       "      <th></th>\n",
       "      <th>IncomeTotal</th>\n",
       "      <th>LiabilitiesTotal</th>\n",
       "      <th>DebtToIncomeRatio</th>\n",
       "      <th>Default</th>\n",
       "    </tr>\n",
       "  </thead>\n",
       "  <tbody>\n",
       "    <tr>\n",
       "      <th>2076</th>\n",
       "      <td>0.0</td>\n",
       "      <td>2039.0</td>\n",
       "      <td>2039.0</td>\n",
       "      <td>0</td>\n",
       "    </tr>\n",
       "    <tr>\n",
       "      <th>2382</th>\n",
       "      <td>0.0</td>\n",
       "      <td>3295.0</td>\n",
       "      <td>3295.0</td>\n",
       "      <td>0</td>\n",
       "    </tr>\n",
       "    <tr>\n",
       "      <th>2216</th>\n",
       "      <td>0.0</td>\n",
       "      <td>3350.0</td>\n",
       "      <td>3350.0</td>\n",
       "      <td>0</td>\n",
       "    </tr>\n",
       "    <tr>\n",
       "      <th>78402</th>\n",
       "      <td>0.0</td>\n",
       "      <td>1500.0</td>\n",
       "      <td>1500.0</td>\n",
       "      <td>0</td>\n",
       "    </tr>\n",
       "    <tr>\n",
       "      <th>2236</th>\n",
       "      <td>0.0</td>\n",
       "      <td>4847.0</td>\n",
       "      <td>4847.0</td>\n",
       "      <td>0</td>\n",
       "    </tr>\n",
       "    <tr>\n",
       "      <th>3359</th>\n",
       "      <td>0.0</td>\n",
       "      <td>200.0</td>\n",
       "      <td>200.0</td>\n",
       "      <td>0</td>\n",
       "    </tr>\n",
       "    <tr>\n",
       "      <th>2083</th>\n",
       "      <td>0.0</td>\n",
       "      <td>3485.0</td>\n",
       "      <td>3485.0</td>\n",
       "      <td>0</td>\n",
       "    </tr>\n",
       "    <tr>\n",
       "      <th>3317</th>\n",
       "      <td>0.0</td>\n",
       "      <td>150.0</td>\n",
       "      <td>150.0</td>\n",
       "      <td>0</td>\n",
       "    </tr>\n",
       "    <tr>\n",
       "      <th>3279</th>\n",
       "      <td>0.0</td>\n",
       "      <td>48.0</td>\n",
       "      <td>48.0</td>\n",
       "      <td>0</td>\n",
       "    </tr>\n",
       "    <tr>\n",
       "      <th>3246</th>\n",
       "      <td>0.0</td>\n",
       "      <td>166.0</td>\n",
       "      <td>166.0</td>\n",
       "      <td>0</td>\n",
       "    </tr>\n",
       "  </tbody>\n",
       "</table>\n",
       "</div>"
      ],
      "text/plain": [
       "       IncomeTotal  LiabilitiesTotal  DebtToIncomeRatio  Default\n",
       "2076           0.0            2039.0             2039.0        0\n",
       "2382           0.0            3295.0             3295.0        0\n",
       "2216           0.0            3350.0             3350.0        0\n",
       "78402          0.0            1500.0             1500.0        0\n",
       "2236           0.0            4847.0             4847.0        0\n",
       "3359           0.0             200.0              200.0        0\n",
       "2083           0.0            3485.0             3485.0        0\n",
       "3317           0.0             150.0              150.0        0\n",
       "3279           0.0              48.0               48.0        0\n",
       "3246           0.0             166.0              166.0        0"
      ]
     },
     "execution_count": 22,
     "metadata": {},
     "output_type": "execute_result"
    }
   ],
   "source": [
    "df.loc[df[(df.IncomeTotal == 0)].index, \"DebtToIncomeRatio\"] = df.loc[df[(df.IncomeTotal == 0)].index, \"LiabilitiesTotal\"]\n",
    "\n",
    "df.loc[bad_ratio_index, [\"IncomeTotal\", \"LiabilitiesTotal\", \"DebtToIncomeRatio\", \"Default\"]].head(10)"
   ]
  },
  {
   "cell_type": "code",
   "execution_count": 23,
   "id": "afae487a",
   "metadata": {},
   "outputs": [],
   "source": [
    "df.drop(columns=[\"LiabilitiesTotal\"], inplace=True)"
   ]
  },
  {
   "cell_type": "markdown",
   "id": "90aefa6f",
   "metadata": {},
   "source": [
    "## VerificationType"
   ]
  },
  {
   "cell_type": "code",
   "execution_count": 24,
   "id": "ede71c6d",
   "metadata": {},
   "outputs": [
    {
     "data": {
      "text/plain": [
       "VerifiedByBankStatement    72869\n",
       "NotVerified                37289\n",
       "VerifiedByOtherDocument     8972\n",
       "VerifiedByPhone             1828\n",
       "Name: VerificationType, dtype: int64"
      ]
     },
     "execution_count": 24,
     "metadata": {},
     "output_type": "execute_result"
    }
   ],
   "source": [
    "# First, replace the numbers with the actual names of the verification status.\n",
    "verificationDict = {\n",
    "1.0 : \"NotVerified\",\n",
    "2.0 : \"VerifiedByPhone\",\n",
    "3.0 : \"VerifiedByOtherDocument\",\n",
    "4.0 : \"VerifiedByBankStatement\"\n",
    "}\n",
    "df.drop(index=df[(df.VerificationType == 0.0) | (df.VerificationType.isnull())].index, inplace=True)\n",
    "df.VerificationType.replace(to_replace=verificationDict, inplace=True)\n",
    "df.VerificationType = df.VerificationType.astype('category')\n",
    "\n",
    "df.VerificationType.value_counts()"
   ]
  },
  {
   "cell_type": "code",
   "execution_count": 25,
   "id": "610bc77a",
   "metadata": {},
   "outputs": [
    {
     "data": {
      "text/plain": [
       "VerifiedByBankStatement    60.24%\n",
       "NotVerified                30.83%\n",
       "VerifiedByOtherDocument     7.42%\n",
       "VerifiedByPhone             1.51%\n",
       "Name: VerificationType, dtype: object"
      ]
     },
     "execution_count": 25,
     "metadata": {},
     "output_type": "execute_result"
    }
   ],
   "source": [
    "verification_dis = df.VerificationType.value_counts(normalize=True)\n",
    "verification_dis.map('{:.2%}'.format)"
   ]
  },
  {
   "cell_type": "code",
   "execution_count": 26,
   "id": "103b2c57",
   "metadata": {},
   "outputs": [
    {
     "data": {
      "text/html": [
       "<div>\n",
       "<style scoped>\n",
       "    .dataframe tbody tr th:only-of-type {\n",
       "        vertical-align: middle;\n",
       "    }\n",
       "\n",
       "    .dataframe tbody tr th {\n",
       "        vertical-align: top;\n",
       "    }\n",
       "\n",
       "    .dataframe thead th {\n",
       "        text-align: right;\n",
       "    }\n",
       "</style>\n",
       "<table border=\"1\" class=\"dataframe\">\n",
       "  <thead>\n",
       "    <tr style=\"text-align: right;\">\n",
       "      <th>VerificationType</th>\n",
       "      <th>NotVerified</th>\n",
       "      <th>VerifiedByBankStatement</th>\n",
       "      <th>VerifiedByOtherDocument</th>\n",
       "      <th>VerifiedByPhone</th>\n",
       "    </tr>\n",
       "    <tr>\n",
       "      <th>Default</th>\n",
       "      <th></th>\n",
       "      <th></th>\n",
       "      <th></th>\n",
       "      <th></th>\n",
       "    </tr>\n",
       "  </thead>\n",
       "  <tbody>\n",
       "    <tr>\n",
       "      <th>0</th>\n",
       "      <td>0.676822</td>\n",
       "      <td>0.627784</td>\n",
       "      <td>0.663843</td>\n",
       "      <td>0.874179</td>\n",
       "    </tr>\n",
       "    <tr>\n",
       "      <th>1</th>\n",
       "      <td>0.323178</td>\n",
       "      <td>0.372216</td>\n",
       "      <td>0.336157</td>\n",
       "      <td>0.125821</td>\n",
       "    </tr>\n",
       "  </tbody>\n",
       "</table>\n",
       "</div>"
      ],
      "text/plain": [
       "VerificationType  NotVerified  VerifiedByBankStatement  \\\n",
       "Default                                                  \n",
       "0                    0.676822                 0.627784   \n",
       "1                    0.323178                 0.372216   \n",
       "\n",
       "VerificationType  VerifiedByOtherDocument  VerifiedByPhone  \n",
       "Default                                                     \n",
       "0                                0.663843         0.874179  \n",
       "1                                0.336157         0.125821  "
      ]
     },
     "execution_count": 26,
     "metadata": {},
     "output_type": "execute_result"
    }
   ],
   "source": [
    "tab = pd.crosstab(df.Default, df.VerificationType)\n",
    "prop_tab_vertical = tab.apply(lambda r: r/r.sum(), axis=0)\n",
    "prop_tab_vertical"
   ]
  },
  {
   "cell_type": "markdown",
   "id": "791d37ff",
   "metadata": {},
   "source": [
    "Given the similar proportions in terms of default for each verification type, except for verifiedByPhone, which only makes up a small fraction of the dataset, it is likely safe to remove verification type from our dataset for the sake of reducing the noise that could impact our models."
   ]
  },
  {
   "cell_type": "code",
   "execution_count": 27,
   "id": "534ed9c2",
   "metadata": {},
   "outputs": [],
   "source": [
    "df.drop(columns=\"VerificationType\", inplace=True)"
   ]
  },
  {
   "cell_type": "markdown",
   "id": "41c9786e",
   "metadata": {},
   "source": [
    "## Gender"
   ]
  },
  {
   "cell_type": "code",
   "execution_count": 28,
   "id": "476d2544",
   "metadata": {},
   "outputs": [
    {
     "data": {
      "text/plain": [
       "Male       62.13\n",
       "Female     28.77\n",
       "Unknown     9.11\n",
       "Name: Gender, dtype: float64"
      ]
     },
     "execution_count": 28,
     "metadata": {},
     "output_type": "execute_result"
    }
   ],
   "source": [
    "# First, replace the numbers with the actual names of the gender status.\n",
    "genderDict = {\n",
    "\"col\" : \"Gender\",\n",
    "\"0.0\" : \"Male\",\n",
    "\"1.0\" : \"Female\",\n",
    "\"2.0\" : \"Unknown\"\n",
    "}\n",
    "df.Gender = df.Gender.astype('string')\n",
    "df.Gender.replace(to_replace=genderDict, inplace=True)\n",
    "df.Gender = df.Gender.astype('category')\n",
    "df.Gender.value_counts(normalize=True).round(4) * 100"
   ]
  },
  {
   "cell_type": "code",
   "execution_count": 29,
   "id": "260bf564",
   "metadata": {},
   "outputs": [
    {
     "data": {
      "text/html": [
       "<div>\n",
       "<style scoped>\n",
       "    .dataframe tbody tr th:only-of-type {\n",
       "        vertical-align: middle;\n",
       "    }\n",
       "\n",
       "    .dataframe tbody tr th {\n",
       "        vertical-align: top;\n",
       "    }\n",
       "\n",
       "    .dataframe thead th {\n",
       "        text-align: right;\n",
       "    }\n",
       "</style>\n",
       "<table border=\"1\" class=\"dataframe\">\n",
       "  <thead>\n",
       "    <tr style=\"text-align: right;\">\n",
       "      <th>Gender</th>\n",
       "      <th>Female</th>\n",
       "      <th>Male</th>\n",
       "      <th>Unknown</th>\n",
       "    </tr>\n",
       "    <tr>\n",
       "      <th>Default</th>\n",
       "      <th></th>\n",
       "      <th></th>\n",
       "      <th></th>\n",
       "    </tr>\n",
       "  </thead>\n",
       "  <tbody>\n",
       "    <tr>\n",
       "      <th>0</th>\n",
       "      <td>0.713547</td>\n",
       "      <td>0.663934</td>\n",
       "      <td>0.346468</td>\n",
       "    </tr>\n",
       "    <tr>\n",
       "      <th>1</th>\n",
       "      <td>0.286453</td>\n",
       "      <td>0.336066</td>\n",
       "      <td>0.653532</td>\n",
       "    </tr>\n",
       "  </tbody>\n",
       "</table>\n",
       "</div>"
      ],
      "text/plain": [
       "Gender     Female      Male   Unknown\n",
       "Default                              \n",
       "0        0.713547  0.663934  0.346468\n",
       "1        0.286453  0.336066  0.653532"
      ]
     },
     "execution_count": 29,
     "metadata": {},
     "output_type": "execute_result"
    }
   ],
   "source": [
    "tab = pd.crosstab(df.Default, df.Gender)\n",
    "prop_tab_vertical = tab.apply(lambda r: r/r.sum(), axis=0)\n",
    "prop_tab_vertical"
   ]
  },
  {
   "cell_type": "markdown",
   "id": "76043910",
   "metadata": {},
   "source": [
    "Given the similar proportions in terms of default for each gender, except for Unknown, which only makes up a small fraction of the dataset, it is likely safe to remove gender from our dataset for the sake of reducing the noise that could impact our models."
   ]
  },
  {
   "cell_type": "code",
   "execution_count": 30,
   "id": "eb898542",
   "metadata": {},
   "outputs": [],
   "source": [
    "df.drop(columns=\"Gender\", inplace=True)"
   ]
  },
  {
   "cell_type": "markdown",
   "id": "cfce42c6",
   "metadata": {},
   "source": [
    "## Educatoin"
   ]
  },
  {
   "cell_type": "code",
   "execution_count": 31,
   "id": "53096574",
   "metadata": {},
   "outputs": [
    {
     "data": {
      "text/plain": [
       "Secondary     36.88\n",
       "Higher        26.27\n",
       "Vocational    22.56\n",
       "Primary        9.37\n",
       "Basic          4.91\n",
       "N/A            0.00\n",
       "Name: Education, dtype: float64"
      ]
     },
     "execution_count": 31,
     "metadata": {},
     "output_type": "execute_result"
    }
   ],
   "source": [
    "educationDict = {\n",
    "\"col\": \"Education\",\n",
    "\"-1.0\" : \"N/A\",\n",
    "\"0.0\"  : \"N/A\",\n",
    "\"1.0\"  : \"Primary\",\n",
    "\"2.0\"  : \"Basic\",\n",
    "\"3.0\"  : \"Vocational\",\n",
    "\"4.0\"  : \"Secondary\",\n",
    "\"5.0\"  : \"Higher\"\n",
    "}\n",
    "df.Education = df.Education.astype('string')\n",
    "df.Education.replace(to_replace=educationDict, inplace=True)\n",
    "df.Education = df.Education.astype('category')\n",
    "# Remove all records with N/A or null for education.\n",
    "df.drop(df[(df.Education == \"N/A\") | (df.Education.isnull())].index, inplace=True)\n",
    "df.Education.value_counts(normalize=True).round(4) * 100"
   ]
  },
  {
   "cell_type": "code",
   "execution_count": 32,
   "id": "17101f2b",
   "metadata": {},
   "outputs": [
    {
     "data": {
      "text/html": [
       "<div>\n",
       "<style scoped>\n",
       "    .dataframe tbody tr th:only-of-type {\n",
       "        vertical-align: middle;\n",
       "    }\n",
       "\n",
       "    .dataframe tbody tr th {\n",
       "        vertical-align: top;\n",
       "    }\n",
       "\n",
       "    .dataframe thead th {\n",
       "        text-align: right;\n",
       "    }\n",
       "</style>\n",
       "<table border=\"1\" class=\"dataframe\">\n",
       "  <thead>\n",
       "    <tr style=\"text-align: right;\">\n",
       "      <th>Education</th>\n",
       "      <th>Basic</th>\n",
       "      <th>Higher</th>\n",
       "      <th>Primary</th>\n",
       "      <th>Secondary</th>\n",
       "      <th>Vocational</th>\n",
       "    </tr>\n",
       "    <tr>\n",
       "      <th>Default</th>\n",
       "      <th></th>\n",
       "      <th></th>\n",
       "      <th></th>\n",
       "      <th></th>\n",
       "      <th></th>\n",
       "    </tr>\n",
       "  </thead>\n",
       "  <tbody>\n",
       "    <tr>\n",
       "      <th>0</th>\n",
       "      <td>0.650328</td>\n",
       "      <td>0.65194</td>\n",
       "      <td>0.563455</td>\n",
       "      <td>0.682201</td>\n",
       "      <td>0.62594</td>\n",
       "    </tr>\n",
       "    <tr>\n",
       "      <th>1</th>\n",
       "      <td>0.349672</td>\n",
       "      <td>0.34806</td>\n",
       "      <td>0.436545</td>\n",
       "      <td>0.317799</td>\n",
       "      <td>0.37406</td>\n",
       "    </tr>\n",
       "  </tbody>\n",
       "</table>\n",
       "</div>"
      ],
      "text/plain": [
       "Education     Basic   Higher   Primary  Secondary  Vocational\n",
       "Default                                                      \n",
       "0          0.650328  0.65194  0.563455   0.682201     0.62594\n",
       "1          0.349672  0.34806  0.436545   0.317799     0.37406"
      ]
     },
     "execution_count": 32,
     "metadata": {},
     "output_type": "execute_result"
    }
   ],
   "source": [
    "tab = pd.crosstab(df.Default, df.Education)\n",
    "prop_tab_vertical = tab.apply(lambda r: r/r.sum(), axis=0)\n",
    "prop_tab_vertical"
   ]
  },
  {
   "cell_type": "markdown",
   "id": "637faad1",
   "metadata": {},
   "source": [
    "Given the similar proportions in terms of default for each gender, except for Basic and Primary, which only makes up a small fraction of the dataset, it is likely safe to remove Education from our dataset for the sake of reducing the noise that could impact our models."
   ]
  },
  {
   "cell_type": "code",
   "execution_count": 33,
   "id": "ea947007",
   "metadata": {},
   "outputs": [],
   "source": [
    "df.drop(columns=\"Education\", inplace=True)"
   ]
  },
  {
   "cell_type": "markdown",
   "id": "e76efc64",
   "metadata": {},
   "source": [
    "## Country"
   ]
  },
  {
   "cell_type": "code",
   "execution_count": 34,
   "id": "676bbfe5",
   "metadata": {},
   "outputs": [
    {
     "data": {
      "text/plain": [
       "EE    53.66\n",
       "FI    25.88\n",
       "ES    20.22\n",
       "SK     0.24\n",
       "Name: Country, dtype: float64"
      ]
     },
     "execution_count": 34,
     "metadata": {},
     "output_type": "execute_result"
    }
   ],
   "source": [
    "df.Country.value_counts(normalize=True).round(4) * 100"
   ]
  },
  {
   "cell_type": "code",
   "execution_count": 35,
   "id": "42434944",
   "metadata": {},
   "outputs": [
    {
     "data": {
      "text/html": [
       "<div>\n",
       "<style scoped>\n",
       "    .dataframe tbody tr th:only-of-type {\n",
       "        vertical-align: middle;\n",
       "    }\n",
       "\n",
       "    .dataframe tbody tr th {\n",
       "        vertical-align: top;\n",
       "    }\n",
       "\n",
       "    .dataframe thead th {\n",
       "        text-align: right;\n",
       "    }\n",
       "</style>\n",
       "<table border=\"1\" class=\"dataframe\">\n",
       "  <thead>\n",
       "    <tr style=\"text-align: right;\">\n",
       "      <th>Country</th>\n",
       "      <th>EE</th>\n",
       "      <th>ES</th>\n",
       "      <th>FI</th>\n",
       "      <th>SK</th>\n",
       "    </tr>\n",
       "    <tr>\n",
       "      <th>Default</th>\n",
       "      <th></th>\n",
       "      <th></th>\n",
       "      <th></th>\n",
       "      <th></th>\n",
       "    </tr>\n",
       "  </thead>\n",
       "  <tbody>\n",
       "    <tr>\n",
       "      <th>0</th>\n",
       "      <td>0.782792</td>\n",
       "      <td>0.375911</td>\n",
       "      <td>0.587279</td>\n",
       "      <td>0.345763</td>\n",
       "    </tr>\n",
       "    <tr>\n",
       "      <th>1</th>\n",
       "      <td>0.217208</td>\n",
       "      <td>0.624089</td>\n",
       "      <td>0.412721</td>\n",
       "      <td>0.654237</td>\n",
       "    </tr>\n",
       "  </tbody>\n",
       "</table>\n",
       "</div>"
      ],
      "text/plain": [
       "Country        EE        ES        FI        SK\n",
       "Default                                        \n",
       "0        0.782792  0.375911  0.587279  0.345763\n",
       "1        0.217208  0.624089  0.412721  0.654237"
      ]
     },
     "execution_count": 35,
     "metadata": {},
     "output_type": "execute_result"
    }
   ],
   "source": [
    "tab = pd.crosstab(df.Default, df.Country)\n",
    "prop_tab_vertical = tab.apply(lambda r: r/r.sum(), axis=0)\n",
    "prop_tab_vertical\n",
    "#Keep Country"
   ]
  },
  {
   "cell_type": "markdown",
   "id": "0c7845b2",
   "metadata": {},
   "source": [
    "## MaritalStatus"
   ]
  },
  {
   "cell_type": "code",
   "execution_count": 36,
   "id": "c4be442b",
   "metadata": {},
   "outputs": [],
   "source": [
    "MaritalDict = {\n",
    "\"col\": \"MaritalStatus\",\n",
    "\"-1.0\" : \"N/A\",\n",
    "\"0.0\"  : \"N/A\",\n",
    "\"1.0\"  : \"Married\",\n",
    "\"2.0\"  : \"Cohabitant\",\n",
    "\"3.0\"  : \"Single\",\n",
    "\"4.0\"  : \"Divorced\",\n",
    "\"5.0\"  : \"Widow\"\n",
    "}\n",
    "df.MaritalStatus = df.MaritalStatus.astype('string')\n",
    "df.MaritalStatus.replace(to_replace=MaritalDict, inplace=True)\n",
    "df.MaritalStatus = df.MaritalStatus.astype('category')\n",
    "# Remove all records with N/A or null for Marital.\n",
    "df.drop(df[(df.MaritalStatus == \"N/A\") | (df.MaritalStatus.isnull())].index, inplace=True)"
   ]
  },
  {
   "cell_type": "code",
   "execution_count": 37,
   "id": "ade20472",
   "metadata": {},
   "outputs": [
    {
     "data": {
      "text/plain": [
       "Single        34.31\n",
       "Married       29.13\n",
       "Cohabitant    25.61\n",
       "Divorced       9.34\n",
       "Widow          1.62\n",
       "N/A            0.00\n",
       "Name: MaritalStatus, dtype: float64"
      ]
     },
     "execution_count": 37,
     "metadata": {},
     "output_type": "execute_result"
    }
   ],
   "source": [
    "df.MaritalStatus.value_counts(normalize=True).round(4) * 100"
   ]
  },
  {
   "cell_type": "code",
   "execution_count": 38,
   "id": "632cd4d4",
   "metadata": {},
   "outputs": [
    {
     "data": {
      "text/html": [
       "<div>\n",
       "<style scoped>\n",
       "    .dataframe tbody tr th:only-of-type {\n",
       "        vertical-align: middle;\n",
       "    }\n",
       "\n",
       "    .dataframe tbody tr th {\n",
       "        vertical-align: top;\n",
       "    }\n",
       "\n",
       "    .dataframe thead th {\n",
       "        text-align: right;\n",
       "    }\n",
       "</style>\n",
       "<table border=\"1\" class=\"dataframe\">\n",
       "  <thead>\n",
       "    <tr style=\"text-align: right;\">\n",
       "      <th>MaritalStatus</th>\n",
       "      <th>Cohabitant</th>\n",
       "      <th>Divorced</th>\n",
       "      <th>Married</th>\n",
       "      <th>Single</th>\n",
       "      <th>Widow</th>\n",
       "    </tr>\n",
       "    <tr>\n",
       "      <th>Default</th>\n",
       "      <th></th>\n",
       "      <th></th>\n",
       "      <th></th>\n",
       "      <th></th>\n",
       "      <th></th>\n",
       "    </tr>\n",
       "  </thead>\n",
       "  <tbody>\n",
       "    <tr>\n",
       "      <th>0</th>\n",
       "      <td>0.791546</td>\n",
       "      <td>0.656164</td>\n",
       "      <td>0.708068</td>\n",
       "      <td>0.665113</td>\n",
       "      <td>0.70318</td>\n",
       "    </tr>\n",
       "    <tr>\n",
       "      <th>1</th>\n",
       "      <td>0.208454</td>\n",
       "      <td>0.343836</td>\n",
       "      <td>0.291932</td>\n",
       "      <td>0.334887</td>\n",
       "      <td>0.29682</td>\n",
       "    </tr>\n",
       "  </tbody>\n",
       "</table>\n",
       "</div>"
      ],
      "text/plain": [
       "MaritalStatus  Cohabitant  Divorced   Married    Single    Widow\n",
       "Default                                                         \n",
       "0                0.791546  0.656164  0.708068  0.665113  0.70318\n",
       "1                0.208454  0.343836  0.291932  0.334887  0.29682"
      ]
     },
     "execution_count": 38,
     "metadata": {},
     "output_type": "execute_result"
    }
   ],
   "source": [
    "tab = pd.crosstab(df.Default, df.MaritalStatus)\n",
    "prop_tab_vertical = tab.apply(lambda r: r/r.sum(), axis=0)\n",
    "prop_tab_vertical\n",
    "#drop MaritalStatus"
   ]
  },
  {
   "cell_type": "code",
   "execution_count": 39,
   "id": "4ead6016",
   "metadata": {},
   "outputs": [],
   "source": [
    "df.drop(columns=\"MaritalStatus\", inplace=True)"
   ]
  },
  {
   "cell_type": "markdown",
   "id": "935b7034",
   "metadata": {},
   "source": [
    "## Restructured"
   ]
  },
  {
   "cell_type": "code",
   "execution_count": 40,
   "id": "a4671367",
   "metadata": {},
   "outputs": [
    {
     "data": {
      "text/plain": [
       "False    73.01\n",
       "True     26.99\n",
       "Name: Restructured, dtype: float64"
      ]
     },
     "execution_count": 40,
     "metadata": {},
     "output_type": "execute_result"
    }
   ],
   "source": [
    "df.Restructured.value_counts(normalize=True).round(4) * 100"
   ]
  },
  {
   "cell_type": "code",
   "execution_count": 41,
   "id": "119bb131",
   "metadata": {},
   "outputs": [
    {
     "data": {
      "text/html": [
       "<div>\n",
       "<style scoped>\n",
       "    .dataframe tbody tr th:only-of-type {\n",
       "        vertical-align: middle;\n",
       "    }\n",
       "\n",
       "    .dataframe tbody tr th {\n",
       "        vertical-align: top;\n",
       "    }\n",
       "\n",
       "    .dataframe thead th {\n",
       "        text-align: right;\n",
       "    }\n",
       "</style>\n",
       "<table border=\"1\" class=\"dataframe\">\n",
       "  <thead>\n",
       "    <tr style=\"text-align: right;\">\n",
       "      <th>Restructured</th>\n",
       "      <th>False</th>\n",
       "      <th>True</th>\n",
       "    </tr>\n",
       "    <tr>\n",
       "      <th>Default</th>\n",
       "      <th></th>\n",
       "      <th></th>\n",
       "    </tr>\n",
       "  </thead>\n",
       "  <tbody>\n",
       "    <tr>\n",
       "      <th>0</th>\n",
       "      <td>0.724478</td>\n",
       "      <td>0.670018</td>\n",
       "    </tr>\n",
       "    <tr>\n",
       "      <th>1</th>\n",
       "      <td>0.275522</td>\n",
       "      <td>0.329982</td>\n",
       "    </tr>\n",
       "  </tbody>\n",
       "</table>\n",
       "</div>"
      ],
      "text/plain": [
       "Restructured     False     True \n",
       "Default                         \n",
       "0             0.724478  0.670018\n",
       "1             0.275522  0.329982"
      ]
     },
     "execution_count": 41,
     "metadata": {},
     "output_type": "execute_result"
    }
   ],
   "source": [
    "tab = pd.crosstab(df.Default, df.Restructured)\n",
    "prop_tab_vertical = tab.apply(lambda r: r/r.sum(), axis=0)\n",
    "prop_tab_vertical"
   ]
  },
  {
   "cell_type": "markdown",
   "id": "ee23dad5",
   "metadata": {},
   "source": [
    "Given the similar proportions in terms of default for each restructured type, it is likely safe to remove Restructured from our dataset for the sake of reducing the noise that could impact our models."
   ]
  },
  {
   "cell_type": "code",
   "execution_count": 42,
   "id": "8cf8ee40",
   "metadata": {},
   "outputs": [],
   "source": [
    "df.drop(columns=\"Restructured\", inplace=True)"
   ]
  },
  {
   "cell_type": "markdown",
   "id": "13c1905d",
   "metadata": {},
   "source": [
    "## CreditScoreEeMini"
   ]
  },
  {
   "cell_type": "code",
   "execution_count": 43,
   "id": "2fc7c392",
   "metadata": {},
   "outputs": [
    {
     "data": {
      "text/plain": [
       "1000.0    72.67\n",
       "800.0      9.68\n",
       "900.0      7.48\n",
       "600.0      5.47\n",
       "700.0      4.69\n",
       "0.0        0.01\n",
       "Name: CreditScoreEeMini, dtype: float64"
      ]
     },
     "execution_count": 43,
     "metadata": {},
     "output_type": "execute_result"
    }
   ],
   "source": [
    "df.CreditScoreEeMini.value_counts(normalize=True).round(4) * 100"
   ]
  },
  {
   "cell_type": "code",
   "execution_count": 44,
   "id": "d500d1c9",
   "metadata": {},
   "outputs": [
    {
     "data": {
      "text/html": [
       "<div>\n",
       "<style scoped>\n",
       "    .dataframe tbody tr th:only-of-type {\n",
       "        vertical-align: middle;\n",
       "    }\n",
       "\n",
       "    .dataframe tbody tr th {\n",
       "        vertical-align: top;\n",
       "    }\n",
       "\n",
       "    .dataframe thead th {\n",
       "        text-align: right;\n",
       "    }\n",
       "</style>\n",
       "<table border=\"1\" class=\"dataframe\">\n",
       "  <thead>\n",
       "    <tr style=\"text-align: right;\">\n",
       "      <th>CreditScoreEeMini</th>\n",
       "      <th>0.0</th>\n",
       "      <th>600.0</th>\n",
       "      <th>700.0</th>\n",
       "      <th>800.0</th>\n",
       "      <th>900.0</th>\n",
       "      <th>1000.0</th>\n",
       "    </tr>\n",
       "    <tr>\n",
       "      <th>Default</th>\n",
       "      <th></th>\n",
       "      <th></th>\n",
       "      <th></th>\n",
       "      <th></th>\n",
       "      <th></th>\n",
       "      <th></th>\n",
       "    </tr>\n",
       "  </thead>\n",
       "  <tbody>\n",
       "    <tr>\n",
       "      <th>0</th>\n",
       "      <td>1.0</td>\n",
       "      <td>0.786052</td>\n",
       "      <td>0.801653</td>\n",
       "      <td>0.79453</td>\n",
       "      <td>0.791883</td>\n",
       "      <td>0.80825</td>\n",
       "    </tr>\n",
       "    <tr>\n",
       "      <th>1</th>\n",
       "      <td>0.0</td>\n",
       "      <td>0.213948</td>\n",
       "      <td>0.198347</td>\n",
       "      <td>0.20547</td>\n",
       "      <td>0.208117</td>\n",
       "      <td>0.19175</td>\n",
       "    </tr>\n",
       "  </tbody>\n",
       "</table>\n",
       "</div>"
      ],
      "text/plain": [
       "CreditScoreEeMini  0.0       600.0     700.0    800.0     900.0    1000.0\n",
       "Default                                                                  \n",
       "0                     1.0  0.786052  0.801653  0.79453  0.791883  0.80825\n",
       "1                     0.0  0.213948  0.198347  0.20547  0.208117  0.19175"
      ]
     },
     "execution_count": 44,
     "metadata": {},
     "output_type": "execute_result"
    }
   ],
   "source": [
    "tab = pd.crosstab(df.Default, df.CreditScoreEeMini)\n",
    "prop_tab_vertical = tab.apply(lambda r: r/r.sum(), axis=0)\n",
    "prop_tab_vertical"
   ]
  },
  {
   "cell_type": "code",
   "execution_count": 45,
   "id": "ccd19005",
   "metadata": {},
   "outputs": [],
   "source": [
    "#Drop CreditScoreEeMini\n",
    "df.drop(columns=\"CreditScoreEeMini\", inplace=True)"
   ]
  },
  {
   "cell_type": "markdown",
   "id": "1fa4f26f",
   "metadata": {},
   "source": [
    "## EmploymentStatus"
   ]
  },
  {
   "cell_type": "code",
   "execution_count": 46,
   "id": "4544244b",
   "metadata": {},
   "outputs": [],
   "source": [
    "employmentDict = {\n",
    "\"col\": \"EmploymentStatus\",\n",
    "\"-1.0\" : \"N/A\",\n",
    "\"0.0\"  : \"N/A\",\n",
    "\"1.0\"  : \"Unemployed\",\n",
    "\"2.0\"  : \"Partially employed\",\n",
    "\"3.0\"  : \"Fully employed\",\n",
    "\"4.0\"  : \"Self-employed\",\n",
    "\"5.0\"  : \"Entrepreneur\",\n",
    "\"6.0\"  : \"Retiree\"\n",
    "}\n",
    "df.EmploymentStatus = df.EmploymentStatus.astype('string')\n",
    "df.EmploymentStatus.replace(to_replace=employmentDict, inplace=True)\n",
    "df.EmploymentStatus = df.EmploymentStatus.astype('category')\n",
    "# Remove all records with N/A or null for education.\n",
    "df.drop(df[(df.EmploymentStatus == \"N/A\") | (df.EmploymentStatus.isnull())].index, inplace=True)"
   ]
  },
  {
   "cell_type": "code",
   "execution_count": 47,
   "id": "b5d8359b",
   "metadata": {},
   "outputs": [
    {
     "data": {
      "text/plain": [
       "Fully employed        82.67\n",
       "Entrepreneur           5.37\n",
       "Retiree                5.05\n",
       "Self-employed          3.60\n",
       "Partially employed     3.31\n",
       "N/A                    0.00\n",
       "Name: EmploymentStatus, dtype: float64"
      ]
     },
     "execution_count": 47,
     "metadata": {},
     "output_type": "execute_result"
    }
   ],
   "source": [
    "df.EmploymentStatus.value_counts(normalize=True).round(4) * 100"
   ]
  },
  {
   "cell_type": "code",
   "execution_count": 48,
   "id": "d2a71ceb",
   "metadata": {},
   "outputs": [
    {
     "data": {
      "text/html": [
       "<div>\n",
       "<style scoped>\n",
       "    .dataframe tbody tr th:only-of-type {\n",
       "        vertical-align: middle;\n",
       "    }\n",
       "\n",
       "    .dataframe tbody tr th {\n",
       "        vertical-align: top;\n",
       "    }\n",
       "\n",
       "    .dataframe thead th {\n",
       "        text-align: right;\n",
       "    }\n",
       "</style>\n",
       "<table border=\"1\" class=\"dataframe\">\n",
       "  <thead>\n",
       "    <tr style=\"text-align: right;\">\n",
       "      <th>EmploymentStatus</th>\n",
       "      <th>Entrepreneur</th>\n",
       "      <th>Fully employed</th>\n",
       "      <th>Partially employed</th>\n",
       "      <th>Retiree</th>\n",
       "      <th>Self-employed</th>\n",
       "    </tr>\n",
       "    <tr>\n",
       "      <th>Default</th>\n",
       "      <th></th>\n",
       "      <th></th>\n",
       "      <th></th>\n",
       "      <th></th>\n",
       "      <th></th>\n",
       "    </tr>\n",
       "  </thead>\n",
       "  <tbody>\n",
       "    <tr>\n",
       "      <th>0</th>\n",
       "      <td>0.760428</td>\n",
       "      <td>0.722649</td>\n",
       "      <td>0.680243</td>\n",
       "      <td>0.581488</td>\n",
       "      <td>0.527534</td>\n",
       "    </tr>\n",
       "    <tr>\n",
       "      <th>1</th>\n",
       "      <td>0.239572</td>\n",
       "      <td>0.277351</td>\n",
       "      <td>0.319757</td>\n",
       "      <td>0.418512</td>\n",
       "      <td>0.472466</td>\n",
       "    </tr>\n",
       "  </tbody>\n",
       "</table>\n",
       "</div>"
      ],
      "text/plain": [
       "EmploymentStatus  Entrepreneur  Fully employed  Partially employed   Retiree  \\\n",
       "Default                                                                        \n",
       "0                     0.760428        0.722649            0.680243  0.581488   \n",
       "1                     0.239572        0.277351            0.319757  0.418512   \n",
       "\n",
       "EmploymentStatus  Self-employed  \n",
       "Default                          \n",
       "0                      0.527534  \n",
       "1                      0.472466  "
      ]
     },
     "execution_count": 48,
     "metadata": {},
     "output_type": "execute_result"
    }
   ],
   "source": [
    "tab = pd.crosstab(df.Default, df.EmploymentStatus)\n",
    "prop_tab_vertical = tab.apply(lambda r: r/r.sum(), axis=0)\n",
    "prop_tab_vertical\n",
    "# Keep Employment, Drop EmploymentStatus"
   ]
  },
  {
   "cell_type": "code",
   "execution_count": 49,
   "id": "30b51832",
   "metadata": {},
   "outputs": [],
   "source": [
    "df[\"Employment\"] = [0 if (i == 'Retiree' or i == 'Self-employed')\n",
    "                                 else 1 for i in df.EmploymentStatus]"
   ]
  },
  {
   "cell_type": "code",
   "execution_count": 50,
   "id": "110528f3",
   "metadata": {},
   "outputs": [
    {
     "data": {
      "text/plain": [
       "1    0.913488\n",
       "0    0.086512\n",
       "Name: Employment, dtype: float64"
      ]
     },
     "execution_count": 50,
     "metadata": {},
     "output_type": "execute_result"
    }
   ],
   "source": [
    "df[\"Employment\"].value_counts(normalize=True)"
   ]
  },
  {
   "cell_type": "code",
   "execution_count": 51,
   "id": "e8e08cb8",
   "metadata": {},
   "outputs": [],
   "source": [
    "df.drop(columns=\"EmploymentStatus\", inplace=True)"
   ]
  },
  {
   "cell_type": "markdown",
   "id": "4a2f207d",
   "metadata": {},
   "source": [
    "we should keep retiree and self-employed since they account for 8.6% of data."
   ]
  },
  {
   "cell_type": "markdown",
   "id": "2863cf78",
   "metadata": {},
   "source": [
    "## NewCreditCustomer"
   ]
  },
  {
   "cell_type": "code",
   "execution_count": 52,
   "id": "d09a5f28",
   "metadata": {},
   "outputs": [
    {
     "data": {
      "text/plain": [
       "True     68.15\n",
       "False    31.85\n",
       "Name: NewCreditCustomer, dtype: float64"
      ]
     },
     "execution_count": 52,
     "metadata": {},
     "output_type": "execute_result"
    }
   ],
   "source": [
    "df.NewCreditCustomer.value_counts(normalize=True).round(4) * 100"
   ]
  },
  {
   "cell_type": "code",
   "execution_count": 53,
   "id": "834bbe65",
   "metadata": {},
   "outputs": [
    {
     "data": {
      "text/html": [
       "<div>\n",
       "<style scoped>\n",
       "    .dataframe tbody tr th:only-of-type {\n",
       "        vertical-align: middle;\n",
       "    }\n",
       "\n",
       "    .dataframe tbody tr th {\n",
       "        vertical-align: top;\n",
       "    }\n",
       "\n",
       "    .dataframe thead th {\n",
       "        text-align: right;\n",
       "    }\n",
       "</style>\n",
       "<table border=\"1\" class=\"dataframe\">\n",
       "  <thead>\n",
       "    <tr style=\"text-align: right;\">\n",
       "      <th>NewCreditCustomer</th>\n",
       "      <th>False</th>\n",
       "      <th>True</th>\n",
       "    </tr>\n",
       "    <tr>\n",
       "      <th>Default</th>\n",
       "      <th></th>\n",
       "      <th></th>\n",
       "    </tr>\n",
       "  </thead>\n",
       "  <tbody>\n",
       "    <tr>\n",
       "      <th>0</th>\n",
       "      <td>0.770999</td>\n",
       "      <td>0.6802</td>\n",
       "    </tr>\n",
       "    <tr>\n",
       "      <th>1</th>\n",
       "      <td>0.229001</td>\n",
       "      <td>0.3198</td>\n",
       "    </tr>\n",
       "  </tbody>\n",
       "</table>\n",
       "</div>"
      ],
      "text/plain": [
       "NewCreditCustomer     False   True \n",
       "Default                            \n",
       "0                  0.770999  0.6802\n",
       "1                  0.229001  0.3198"
      ]
     },
     "execution_count": 53,
     "metadata": {},
     "output_type": "execute_result"
    }
   ],
   "source": [
    "tab = pd.crosstab(df.Default, df.NewCreditCustomer)\n",
    "prop_tab_vertical = tab.apply(lambda r: r/r.sum(), axis=0)\n",
    "prop_tab_vertical\n",
    "#Keep NewCreditCustomer"
   ]
  },
  {
   "cell_type": "markdown",
   "id": "66f17228",
   "metadata": {},
   "source": [
    "We should keep NewCreditCustomer in our dataset since their default rate varies."
   ]
  },
  {
   "cell_type": "markdown",
   "id": "28dd0a11",
   "metadata": {},
   "source": [
    "## HomeOwnershipType"
   ]
  },
  {
   "cell_type": "code",
   "execution_count": 54,
   "id": "1d16cd78",
   "metadata": {},
   "outputs": [],
   "source": [
    "HomeOwnerDict = {\n",
    "\"col\": \"HomeOwnershipType\",\n",
    "\"0.0\"  : \"Homeless\",\n",
    "\"1.0\"  : \"Owner\",\n",
    "\"2.0\"  : \"Living with parents\",\n",
    "\"3.0\"  : \"Tenant-prefurnished\",\n",
    "\"4.0\"  : \"Tenant-unfurnished\",\n",
    "\"5.0\"  : \"Council house\",\n",
    "\"6.0\"  : \"Joint tenant\",\n",
    "\"7.0\"  : \"Joint ownership\",\n",
    "\"8.0\"  : \"Mortgage\",\n",
    "\"9.0\"  : \"Owner with encumbrance\",\n",
    "\"10.0\"  : \"Other\",\n",
    "}\n",
    "df.HomeOwnershipType = df.HomeOwnershipType.astype('string')\n",
    "df.HomeOwnershipType.replace(to_replace=HomeOwnerDict, inplace=True)\n",
    "df.HomeOwnershipType = df.HomeOwnershipType.astype('category')\n",
    "# Remove all records with N/A or null for education.\n",
    "df.drop(df[(df.HomeOwnershipType == \"N/A\") | (df.HomeOwnershipType.isnull())].index, inplace=True)"
   ]
  },
  {
   "cell_type": "code",
   "execution_count": 55,
   "id": "c6006f09",
   "metadata": {},
   "outputs": [
    {
     "data": {
      "text/plain": [
       "Owner                     31.49\n",
       "Living with parents       18.23\n",
       "Tenant-prefurnished       16.10\n",
       "Tenant-unfurnished        10.55\n",
       "Mortgage                   9.73\n",
       "Joint ownership            6.96\n",
       "Joint tenant               3.71\n",
       "Council house              1.64\n",
       "Owner with encumbrance     1.48\n",
       "Homeless                   0.11\n",
       "Name: HomeOwnershipType, dtype: float64"
      ]
     },
     "execution_count": 55,
     "metadata": {},
     "output_type": "execute_result"
    }
   ],
   "source": [
    "df.HomeOwnershipType.value_counts(normalize=True).round(4) * 100"
   ]
  },
  {
   "cell_type": "code",
   "execution_count": 56,
   "id": "47e38249",
   "metadata": {},
   "outputs": [
    {
     "data": {
      "text/html": [
       "<div>\n",
       "<style scoped>\n",
       "    .dataframe tbody tr th:only-of-type {\n",
       "        vertical-align: middle;\n",
       "    }\n",
       "\n",
       "    .dataframe tbody tr th {\n",
       "        vertical-align: top;\n",
       "    }\n",
       "\n",
       "    .dataframe thead th {\n",
       "        text-align: right;\n",
       "    }\n",
       "</style>\n",
       "<table border=\"1\" class=\"dataframe\">\n",
       "  <thead>\n",
       "    <tr style=\"text-align: right;\">\n",
       "      <th>HomeOwnershipType</th>\n",
       "      <th>Council house</th>\n",
       "      <th>Homeless</th>\n",
       "      <th>Joint ownership</th>\n",
       "      <th>Joint tenant</th>\n",
       "      <th>Living with parents</th>\n",
       "      <th>Mortgage</th>\n",
       "      <th>Owner</th>\n",
       "      <th>Owner with encumbrance</th>\n",
       "      <th>Tenant-prefurnished</th>\n",
       "      <th>Tenant-unfurnished</th>\n",
       "    </tr>\n",
       "    <tr>\n",
       "      <th>Default</th>\n",
       "      <th></th>\n",
       "      <th></th>\n",
       "      <th></th>\n",
       "      <th></th>\n",
       "      <th></th>\n",
       "      <th></th>\n",
       "      <th></th>\n",
       "      <th></th>\n",
       "      <th></th>\n",
       "      <th></th>\n",
       "    </tr>\n",
       "  </thead>\n",
       "  <tbody>\n",
       "    <tr>\n",
       "      <th>0</th>\n",
       "      <td>0.669708</td>\n",
       "      <td>0.243243</td>\n",
       "      <td>0.777586</td>\n",
       "      <td>0.716828</td>\n",
       "      <td>0.634704</td>\n",
       "      <td>0.776956</td>\n",
       "      <td>0.742095</td>\n",
       "      <td>0.781818</td>\n",
       "      <td>0.644627</td>\n",
       "      <td>0.629514</td>\n",
       "    </tr>\n",
       "    <tr>\n",
       "      <th>1</th>\n",
       "      <td>0.330292</td>\n",
       "      <td>0.756757</td>\n",
       "      <td>0.222414</td>\n",
       "      <td>0.283172</td>\n",
       "      <td>0.365296</td>\n",
       "      <td>0.223044</td>\n",
       "      <td>0.257905</td>\n",
       "      <td>0.218182</td>\n",
       "      <td>0.355373</td>\n",
       "      <td>0.370486</td>\n",
       "    </tr>\n",
       "  </tbody>\n",
       "</table>\n",
       "</div>"
      ],
      "text/plain": [
       "HomeOwnershipType  Council house  Homeless  Joint ownership  Joint tenant  \\\n",
       "Default                                                                     \n",
       "0                       0.669708  0.243243         0.777586      0.716828   \n",
       "1                       0.330292  0.756757         0.222414      0.283172   \n",
       "\n",
       "HomeOwnershipType  Living with parents  Mortgage     Owner  \\\n",
       "Default                                                      \n",
       "0                             0.634704  0.776956  0.742095   \n",
       "1                             0.365296  0.223044  0.257905   \n",
       "\n",
       "HomeOwnershipType  Owner with encumbrance  Tenant-prefurnished  \\\n",
       "Default                                                          \n",
       "0                                0.781818             0.644627   \n",
       "1                                0.218182             0.355373   \n",
       "\n",
       "HomeOwnershipType  Tenant-unfurnished  \n",
       "Default                                \n",
       "0                            0.629514  \n",
       "1                            0.370486  "
      ]
     },
     "execution_count": 56,
     "metadata": {},
     "output_type": "execute_result"
    }
   ],
   "source": [
    "tab = pd.crosstab(df.Default, df.HomeOwnershipType)\n",
    "prop_tab_vertical = tab.apply(lambda r: r/r.sum(), axis=0)\n",
    "prop_tab_vertical"
   ]
  },
  {
   "cell_type": "markdown",
   "id": "e55f27ab",
   "metadata": {},
   "source": [
    "Given the similar proportions in terms of default for each ownership type, except for Homeless, which only makes up a small fraction of the dataset, it is likely safe to remove Homeownershiptype from our dataset for the sake of reducing the noise that could impact our models.\n",
    "\n",
    "Default is about the same for the entirety of employment duration. However, retirees default much more -- by 10%"
   ]
  },
  {
   "cell_type": "code",
   "execution_count": 57,
   "id": "4246d049",
   "metadata": {},
   "outputs": [],
   "source": [
    "#Drop HomeOwnershipType\n",
    "df.drop(columns=\"HomeOwnershipType\", inplace=True)"
   ]
  },
  {
   "cell_type": "markdown",
   "id": "20ecc961",
   "metadata": {},
   "source": [
    "## Converting predictors to the right types"
   ]
  },
  {
   "cell_type": "code",
   "execution_count": 58,
   "id": "adb38bd0",
   "metadata": {},
   "outputs": [
    {
     "data": {
      "text/plain": [
       "PrincipalBalance             float64\n",
       "Country                       object\n",
       "InterestAndPenaltyBalance    float64\n",
       "Interest                     float64\n",
       "LoanDuration                   int64\n",
       "NewCreditCustomer               bool\n",
       "AppliedAmount                float64\n",
       "Age                            int64\n",
       "IncomeTotal                  float64\n",
       "Default                        int64\n",
       "DebtToIncomeRatio            float64\n",
       "Employment                     int64\n",
       "dtype: object"
      ]
     },
     "execution_count": 58,
     "metadata": {},
     "output_type": "execute_result"
    }
   ],
   "source": [
    "df.dtypes"
   ]
  },
  {
   "cell_type": "code",
   "execution_count": 59,
   "id": "abc5f0f4",
   "metadata": {},
   "outputs": [],
   "source": [
    "typedict = {\n",
    "\"IncomeTotal\" : \"int64\",\n",
    "\"NewCreditCustomer\" : \"category\", # binary\n",
    "\"Age\" : \"int64\",\n",
    "\"Country\" : \"string\",\n",
    "\"AppliedAmount\" : \"float64\",\n",
    "\"Interest\" : \"float64\",\n",
    "\"LoanDuration\" : \"int64\",\n",
    "\"PrincipalBalance\" : \"float64\",\n",
    "\"Employment\" : \"category\",      #binary\n",
    "\"Default\" : \"category\",         # binary\n",
    "\"DebtToIncomeRatio\" : \"float64\"\n",
    "}\n",
    "\n",
    "df = df.astype(typedict)"
   ]
  },
  {
   "cell_type": "code",
   "execution_count": 60,
   "id": "f9311193",
   "metadata": {},
   "outputs": [],
   "source": [
    "#Convert the categories that are numbers into their equivalent values.\n",
    "# Commented this out because we removed verificationType.\n",
    "\n",
    "countryDict = {\n",
    "\"col\": \"Country\",\n",
    "\"EE\" : \"Estonia\",\n",
    "\"FI\" : \"Finland\",\n",
    "\"ES\" : \"Spain\",\n",
    "\"SK\" : \"Slovakia\"\n",
    "}\n",
    "\n",
    "\n",
    "#category_dicts = [genderDict, countryDict]#, educationDict]\n",
    "category_dicts = [countryDict]\n",
    "\n",
    "for cat in category_dicts:\n",
    "    df[cat[\"col\"]].replace(cat, inplace=True)"
   ]
  },
  {
   "cell_type": "code",
   "execution_count": 61,
   "id": "6204b42b",
   "metadata": {},
   "outputs": [
    {
     "data": {
      "text/plain": [
       "PrincipalBalance              float64\n",
       "Country                      category\n",
       "InterestAndPenaltyBalance     float64\n",
       "Interest                      float64\n",
       "LoanDuration                    int64\n",
       "NewCreditCustomer            category\n",
       "AppliedAmount                 float64\n",
       "Age                             int64\n",
       "IncomeTotal                     int64\n",
       "Default                      category\n",
       "DebtToIncomeRatio             float64\n",
       "Employment                   category\n",
       "dtype: object"
      ]
     },
     "execution_count": 61,
     "metadata": {},
     "output_type": "execute_result"
    }
   ],
   "source": [
    "# replace string with category\n",
    "for col in df.select_dtypes(include=[\"object\", \"string\"]):\n",
    "    df[col] = df[col].astype('category')\n",
    "df.dtypes"
   ]
  },
  {
   "cell_type": "markdown",
   "id": "e22b58a5",
   "metadata": {},
   "source": [
    "## Choosing Predictors for Dataset"
   ]
  },
  {
   "cell_type": "code",
   "execution_count": 62,
   "id": "4301ff7a",
   "metadata": {},
   "outputs": [
    {
     "name": "stdout",
     "output_type": "stream",
     "text": [
      "Out of the original 112 variables,12 made the final cut.\n",
      " These are:\n",
      "PrincipalBalance              float64\n",
      "Country                      category\n",
      "InterestAndPenaltyBalance     float64\n",
      "Interest                      float64\n",
      "LoanDuration                    int64\n",
      "NewCreditCustomer            category\n",
      "AppliedAmount                 float64\n",
      "Age                             int64\n",
      "IncomeTotal                     int64\n",
      "Default                      category\n",
      "DebtToIncomeRatio             float64\n",
      "Employment                   category\n",
      "dtype: object\n",
      "(33348, 12)\n"
     ]
    }
   ],
   "source": [
    "print(f\"Out of the original {df_original.shape[1]} variables,{df.shape[1]} made the final cut.\\n These are:\")\n",
    "\n",
    "df_chosen = df\n",
    "print(df_chosen.dtypes)\n",
    "print(df_chosen.shape)"
   ]
  },
  {
   "cell_type": "markdown",
   "id": "33fc4d7a",
   "metadata": {},
   "source": [
    "## Normalizing Numericals\n",
    "Since we plan to use KNN, we'll need a normalized rendition of the numerical variables."
   ]
  },
  {
   "cell_type": "code",
   "execution_count": 63,
   "id": "83000a93",
   "metadata": {},
   "outputs": [
    {
     "name": "stdout",
     "output_type": "stream",
     "text": [
      "PrincipalBalance             float64\n",
      "InterestAndPenaltyBalance    float64\n",
      "Interest                     float64\n",
      "LoanDuration                   int64\n",
      "AppliedAmount                float64\n",
      "Age                            int64\n",
      "IncomeTotal                    int64\n",
      "DebtToIncomeRatio            float64\n",
      "dtype: object\n",
      "\n",
      "There are 8 numerical variables here.\n"
     ]
    }
   ],
   "source": [
    "numerical_features = df.select_dtypes(exclude='category').dtypes\n",
    "\n",
    "print(numerical_features)\n",
    "print(f\"\\nThere are {numerical_features.shape[0]} numerical variables here.\")\n",
    "\n",
    "scaler = preprocessing.StandardScaler()\n",
    "\n",
    "normalized_numericals = pd.DataFrame(scaler.fit_transform(df[numerical_features.index]),\n",
    "                                    index=df[numerical_features.index].index,\n",
    "                                    columns=df[numerical_features.index].columns)\n",
    "\n",
    "df = pd.concat([df, normalized_numericals.add_prefix(\"norm_\")], axis=1)"
   ]
  },
  {
   "cell_type": "markdown",
   "id": "597ff33b",
   "metadata": {},
   "source": [
    "## Converting Categoricals to Dummies\n",
    "Since we plan to use KNN, SVM, and CART, we need to create dummy variants of the categoricals.\n",
    "\n",
    "In the cases where predictors only have 2 categories (NewCreditCustomer, Employment and Default), we drop a dummy. One variable is all we need to inform us about all the possible categories for that predictor. Note that gender is excluded due to the availability of an 'other' option."
   ]
  },
  {
   "cell_type": "code",
   "execution_count": 64,
   "id": "89b7bafe",
   "metadata": {},
   "outputs": [],
   "source": [
    "cat_features = df.select_dtypes(include='category').dtypes"
   ]
  },
  {
   "cell_type": "code",
   "execution_count": 65,
   "id": "6aaf4a37",
   "metadata": {},
   "outputs": [
    {
     "data": {
      "text/plain": [
       "Country              category\n",
       "NewCreditCustomer    category\n",
       "Default              category\n",
       "Employment           category\n",
       "dtype: object"
      ]
     },
     "execution_count": 65,
     "metadata": {},
     "output_type": "execute_result"
    }
   ],
   "source": [
    "cat_features"
   ]
  },
  {
   "cell_type": "code",
   "execution_count": 66,
   "id": "2d72314c",
   "metadata": {},
   "outputs": [],
   "source": [
    "df = df.astype({\"Default\":\"uint8\",\n",
    "                \"NewCreditCustomer\":\"uint8\",\n",
    "                \"Employment\":\"uint8\",\n",
    "                })"
   ]
  },
  {
   "cell_type": "code",
   "execution_count": 67,
   "id": "3664a080",
   "metadata": {},
   "outputs": [
    {
     "name": "stdout",
     "output_type": "stream",
     "text": [
      "Country    category\n",
      "dtype: object\n"
     ]
    }
   ],
   "source": [
    "#update the remaining category predictor list\n",
    "cat_features = df.select_dtypes(include='category').dtypes\n",
    "print(cat_features)\n",
    "\n",
    "df = pd.concat([df, pd.get_dummies(df[cat_features.index]).add_prefix(\"gd_\")], axis=1)"
   ]
  },
  {
   "cell_type": "markdown",
   "id": "d3b40a33",
   "metadata": {},
   "source": [
    "## Converting Numericals to Categorical Bins\n",
    "Since we're using Naive Bayes, which requires all categorical variables, we need to bin our numerical values.\n",
    "\n",
    "we will use pandas functions that can do the binning for us.\n",
    "\n",
    "Since LoanDuration is limited in range, we'll address them differently."
   ]
  },
  {
   "cell_type": "code",
   "execution_count": 68,
   "id": "b1322866",
   "metadata": {},
   "outputs": [
    {
     "data": {
      "text/plain": [
       "PrincipalBalance             float64\n",
       "InterestAndPenaltyBalance    float64\n",
       "Interest                     float64\n",
       "LoanDuration                   int64\n",
       "AppliedAmount                float64\n",
       "Age                            int64\n",
       "IncomeTotal                    int64\n",
       "DebtToIncomeRatio            float64\n",
       "dtype: object"
      ]
     },
     "execution_count": 68,
     "metadata": {},
     "output_type": "execute_result"
    }
   ],
   "source": [
    "numerical_features"
   ]
  },
  {
   "cell_type": "markdown",
   "id": "b0524ebe",
   "metadata": {},
   "source": [
    "IncomeTotal, Age, AppliedAmount, Interest, DebtToIncomeRatio\n",
    "\n",
    "For these numerical values we'll split them into 4 bins. qcut will return a bin each containing 25% of the data."
   ]
  },
  {
   "cell_type": "code",
   "execution_count": 69,
   "id": "642b2946",
   "metadata": {},
   "outputs": [
    {
     "name": "stdout",
     "output_type": "stream",
     "text": [
      "(-11.811, 0.0]        19566\n",
      "(1223.75, 10630.0]     8337\n",
      "(0.0, 1223.75]         5445\n",
      "Name: PrincipalBalance, dtype: int64\n",
      "(-2.661, 0.0]           19431\n",
      "(2733.792, 78982.07]     8337\n",
      "(0.0, 2733.792]          5580\n",
      "Name: InterestAndPenaltyBalance, dtype: int64\n",
      "(29.57, 35.33]     8345\n",
      "(4.999, 22.78]     8343\n",
      "(22.78, 29.57]     8335\n",
      "(35.33, 263.63]    8325\n",
      "Name: Interest, dtype: int64\n",
      "(63.911, 1060.0]     8884\n",
      "(3900.0, 10630.0]    8319\n",
      "(2125.0, 3900.0]     8103\n",
      "(1060.0, 2125.0]     8042\n",
      "Name: AppliedAmount, dtype: int64\n",
      "(17.999, 29.0]    9204\n",
      "(36.0, 46.0]      8586\n",
      "(46.0, 75.0]      7868\n",
      "(29.0, 36.0]      7690\n",
      "Name: Age, dtype: int64\n",
      "(1141.0, 1700.0]      8399\n",
      "(-0.001, 797.0]       8345\n",
      "(797.0, 1141.0]       8340\n",
      "(1700.0, 228550.0]    8264\n",
      "Name: IncomeTotal, dtype: int64\n",
      "(0.556, 0.76]      8338\n",
      "(-0.001, 0.397]    8337\n",
      "(0.397, 0.556]     8337\n",
      "(0.76, 10.038]     8336\n",
      "Name: DebtToIncomeRatio, dtype: int64\n"
     ]
    }
   ],
   "source": [
    "for feature in numerical_features.drop([\"LoanDuration\"]).index:\n",
    "    print(pd.qcut(df[feature], q=4, duplicates='drop').value_counts())\n",
    "    df['bin_' + feature] = pd.qcut(df[feature], q=4, duplicates='drop')"
   ]
  },
  {
   "cell_type": "markdown",
   "id": "d0872222",
   "metadata": {},
   "source": [
    "## LoanDuration\n",
    "Loans range between 1 and 60 months. We can create bins representing 12-month intervals."
   ]
  },
  {
   "cell_type": "code",
   "execution_count": 70,
   "id": "6473ac96",
   "metadata": {},
   "outputs": [
    {
     "name": "stdout",
     "output_type": "stream",
     "text": [
      "(48.0, 60.0]    14290\n",
      "(24.0, 36.0]     7667\n",
      "(12.0, 24.0]     4473\n",
      "(0.0, 12.0]      3927\n",
      "(36.0, 48.0]     2991\n",
      "Name: LoanDuration, dtype: int64\n"
     ]
    }
   ],
   "source": [
    "loan_bin = pd.cut(df.LoanDuration, bins=np.linspace(0, 60, 6))\n",
    "\n",
    "print(loan_bin.value_counts())\n",
    "\n",
    "df['bin_LoanDuration'] = loan_bin"
   ]
  },
  {
   "cell_type": "markdown",
   "id": "f2848b02",
   "metadata": {},
   "source": [
    "## Converting the Bins into Binary Categoricals"
   ]
  },
  {
   "cell_type": "code",
   "execution_count": 71,
   "id": "74d564f4",
   "metadata": {},
   "outputs": [],
   "source": [
    "bins = [col for col in df.columns if 'bin_' in col]\n",
    "df = pd.concat([df, pd.get_dummies(df[bins]).add_prefix(\"gd_\")], axis=1)"
   ]
  },
  {
   "cell_type": "code",
   "execution_count": 72,
   "id": "120ccd7a",
   "metadata": {
    "scrolled": false
   },
   "outputs": [
    {
     "name": "stdout",
     "output_type": "stream",
     "text": [
      "(63,)\n",
      "0: PrincipalBalance\n",
      "1: Country\n",
      "2: InterestAndPenaltyBalance\n",
      "3: Interest\n",
      "4: LoanDuration\n",
      "5: NewCreditCustomer\n",
      "6: AppliedAmount\n",
      "7: Age\n",
      "8: IncomeTotal\n",
      "9: Default\n",
      "10: DebtToIncomeRatio\n",
      "11: Employment\n",
      "12: norm_PrincipalBalance\n",
      "13: norm_InterestAndPenaltyBalance\n",
      "14: norm_Interest\n",
      "15: norm_LoanDuration\n",
      "16: norm_AppliedAmount\n",
      "17: norm_Age\n",
      "18: norm_IncomeTotal\n",
      "19: norm_DebtToIncomeRatio\n",
      "20: gd_Country_Estonia\n",
      "21: gd_Country_Finland\n",
      "22: gd_Country_Slovakia\n",
      "23: gd_Country_Spain\n",
      "24: bin_PrincipalBalance\n",
      "25: bin_InterestAndPenaltyBalance\n",
      "26: bin_Interest\n",
      "27: bin_AppliedAmount\n",
      "28: bin_Age\n",
      "29: bin_IncomeTotal\n",
      "30: bin_DebtToIncomeRatio\n",
      "31: bin_LoanDuration\n",
      "32: gd_bin_PrincipalBalance_(-11.811, 0.0]\n",
      "33: gd_bin_PrincipalBalance_(0.0, 1223.75]\n",
      "34: gd_bin_PrincipalBalance_(1223.75, 10630.0]\n",
      "35: gd_bin_InterestAndPenaltyBalance_(-2.661, 0.0]\n",
      "36: gd_bin_InterestAndPenaltyBalance_(0.0, 2733.792]\n",
      "37: gd_bin_InterestAndPenaltyBalance_(2733.792, 78982.07]\n",
      "38: gd_bin_Interest_(4.999, 22.78]\n",
      "39: gd_bin_Interest_(22.78, 29.57]\n",
      "40: gd_bin_Interest_(29.57, 35.33]\n",
      "41: gd_bin_Interest_(35.33, 263.63]\n",
      "42: gd_bin_AppliedAmount_(63.911, 1060.0]\n",
      "43: gd_bin_AppliedAmount_(1060.0, 2125.0]\n",
      "44: gd_bin_AppliedAmount_(2125.0, 3900.0]\n",
      "45: gd_bin_AppliedAmount_(3900.0, 10630.0]\n",
      "46: gd_bin_Age_(17.999, 29.0]\n",
      "47: gd_bin_Age_(29.0, 36.0]\n",
      "48: gd_bin_Age_(36.0, 46.0]\n",
      "49: gd_bin_Age_(46.0, 75.0]\n",
      "50: gd_bin_IncomeTotal_(-0.001, 797.0]\n",
      "51: gd_bin_IncomeTotal_(797.0, 1141.0]\n",
      "52: gd_bin_IncomeTotal_(1141.0, 1700.0]\n",
      "53: gd_bin_IncomeTotal_(1700.0, 228550.0]\n",
      "54: gd_bin_DebtToIncomeRatio_(-0.001, 0.397]\n",
      "55: gd_bin_DebtToIncomeRatio_(0.397, 0.556]\n",
      "56: gd_bin_DebtToIncomeRatio_(0.556, 0.76]\n",
      "57: gd_bin_DebtToIncomeRatio_(0.76, 10.038]\n",
      "58: gd_bin_LoanDuration_(0.0, 12.0]\n",
      "59: gd_bin_LoanDuration_(12.0, 24.0]\n",
      "60: gd_bin_LoanDuration_(24.0, 36.0]\n",
      "61: gd_bin_LoanDuration_(36.0, 48.0]\n",
      "62: gd_bin_LoanDuration_(48.0, 60.0]\n"
     ]
    }
   ],
   "source": [
    "print(df.dtypes.shape)\n",
    "\n",
    "for i, d in enumerate(df.dtypes.to_dict()):\n",
    "    print(f'{i}: {d}')"
   ]
  },
  {
   "cell_type": "code",
   "execution_count": null,
   "id": "1be7387b",
   "metadata": {},
   "outputs": [],
   "source": [
    "df.to_csv(\"Bondora_cleaned_data.csv\")"
   ]
  },
  {
   "cell_type": "markdown",
   "id": "7720aa1e",
   "metadata": {},
   "source": [
    "# Model Building"
   ]
  },
  {
   "cell_type": "code",
   "execution_count": 2,
   "id": "9c59ed18",
   "metadata": {},
   "outputs": [],
   "source": [
    "import numpy as np # linear algebra\n",
    "import pandas as pd \n",
    "pd.set_option('display.max_columns', 500)\n",
    "from sklearn import preprocessing\n",
    "import warnings\n",
    "import matplotlib.pyplot as plt\n",
    "import seaborn as sns\n",
    "warnings.filterwarnings(\"ignore\")"
   ]
  },
  {
   "cell_type": "markdown",
   "id": "ae662c8f",
   "metadata": {},
   "source": [
    "## Model Datadets - Preparation"
   ]
  },
  {
   "cell_type": "code",
   "execution_count": 3,
   "id": "821674e7",
   "metadata": {},
   "outputs": [],
   "source": [
    "df1 = pd.read_csv(\"LoanData.csv\",low_memory=False)"
   ]
  },
  {
   "cell_type": "code",
   "execution_count": 4,
   "id": "fc4f7816",
   "metadata": {},
   "outputs": [],
   "source": [
    "df1.dropna(subset=['ActiveLateLastPaymentCategory'],inplace= True)"
   ]
  },
  {
   "cell_type": "code",
   "execution_count": 5,
   "id": "7ee7672a",
   "metadata": {},
   "outputs": [],
   "source": [
    "df = pd.read_csv(\"Bondora_cleaned_data.csv\",low_memory=False)"
   ]
  },
  {
   "cell_type": "code",
   "execution_count": 6,
   "id": "f256849a",
   "metadata": {},
   "outputs": [],
   "source": [
    "# Remove rows with ActiveLateLastPaymentCategory is null\n",
    "df2 = pd.merge(df,df1,how = 'inner',left_index=True,right_index=True)\n",
    "df2_col = df2.columns\n",
    "df = df2[df2_col]"
   ]
  },
  {
   "cell_type": "code",
   "execution_count": 7,
   "id": "48442c48",
   "metadata": {},
   "outputs": [
    {
     "data": {
      "text/plain": [
       "0"
      ]
     },
     "execution_count": 7,
     "metadata": {},
     "output_type": "execute_result"
    }
   ],
   "source": [
    "df.ActiveLateLastPaymentCategory.isnull().sum()"
   ]
  },
  {
   "cell_type": "code",
   "execution_count": 8,
   "id": "c1d5d1d4",
   "metadata": {},
   "outputs": [],
   "source": [
    "df = df.iloc[:,:63]"
   ]
  },
  {
   "cell_type": "code",
   "execution_count": 9,
   "id": "a5364bb8",
   "metadata": {},
   "outputs": [
    {
     "data": {
      "text/plain": [
       "PrincipalBalance_x                  float64\n",
       "Country_x                            object\n",
       "InterestAndPenaltyBalance_x         float64\n",
       "Interest_x                          float64\n",
       "LoanDuration_x                        int64\n",
       "                                     ...   \n",
       "gd_bin_LoanDuration_(0.0, 12.0]       int64\n",
       "gd_bin_LoanDuration_(12.0, 24.0]      int64\n",
       "gd_bin_LoanDuration_(24.0, 36.0]      int64\n",
       "gd_bin_LoanDuration_(36.0, 48.0]      int64\n",
       "gd_bin_LoanDuration_(48.0, 60.0]      int64\n",
       "Length: 63, dtype: object"
      ]
     },
     "execution_count": 9,
     "metadata": {},
     "output_type": "execute_result"
    }
   ],
   "source": [
    "df.dtypes"
   ]
  },
  {
   "cell_type": "markdown",
   "id": "77291ac6",
   "metadata": {},
   "source": [
    "## SVM"
   ]
  },
  {
   "cell_type": "code",
   "execution_count": 10,
   "id": "a6b86a50",
   "metadata": {},
   "outputs": [],
   "source": [
    "binary_categoricals = [\"Default\", \"NewCreditCustomer_x\", \"Employment\"]"
   ]
  },
  {
   "cell_type": "code",
   "execution_count": 11,
   "id": "e53bbdeb",
   "metadata": {},
   "outputs": [],
   "source": [
    "svm_cols = [col for col in df.columns if 'norm_' in col or ('gd_' in col and 'bin_' not in col)]\n",
    "svm_cols.extend(binary_categoricals)\n",
    "svm_df = df[svm_cols]"
   ]
  },
  {
   "cell_type": "code",
   "execution_count": 12,
   "id": "6f695bb0",
   "metadata": {},
   "outputs": [
    {
     "data": {
      "text/plain": [
       "Index(['PrincipalBalance_x', 'Country_x', 'InterestAndPenaltyBalance_x',\n",
       "       'Interest_x', 'LoanDuration_x', 'NewCreditCustomer_x',\n",
       "       'AppliedAmount_x', 'Age_x', 'IncomeTotal_x', 'Default',\n",
       "       'DebtToIncomeRatio', 'Employment', 'norm_PrincipalBalance',\n",
       "       'norm_InterestAndPenaltyBalance', 'norm_Interest', 'norm_LoanDuration',\n",
       "       'norm_AppliedAmount', 'norm_Age', 'norm_IncomeTotal',\n",
       "       'norm_DebtToIncomeRatio', 'gd_Country_Estonia', 'gd_Country_Finland',\n",
       "       'gd_Country_Slovakia', 'gd_Country_Spain', 'bin_PrincipalBalance',\n",
       "       'bin_InterestAndPenaltyBalance', 'bin_Interest', 'bin_AppliedAmount',\n",
       "       'bin_Age', 'bin_IncomeTotal', 'bin_DebtToIncomeRatio',\n",
       "       'bin_LoanDuration', 'gd_bin_PrincipalBalance_(-11.811, 0.0]',\n",
       "       'gd_bin_PrincipalBalance_(0.0, 1223.75]',\n",
       "       'gd_bin_PrincipalBalance_(1223.75, 10630.0]',\n",
       "       'gd_bin_InterestAndPenaltyBalance_(-2.661, 0.0]',\n",
       "       'gd_bin_InterestAndPenaltyBalance_(0.0, 2733.792]',\n",
       "       'gd_bin_InterestAndPenaltyBalance_(2733.792, 78982.07]',\n",
       "       'gd_bin_Interest_(4.999, 22.78]', 'gd_bin_Interest_(22.78, 29.57]',\n",
       "       'gd_bin_Interest_(29.57, 35.33]', 'gd_bin_Interest_(35.33, 263.63]',\n",
       "       'gd_bin_AppliedAmount_(63.911, 1060.0]',\n",
       "       'gd_bin_AppliedAmount_(1060.0, 2125.0]',\n",
       "       'gd_bin_AppliedAmount_(2125.0, 3900.0]',\n",
       "       'gd_bin_AppliedAmount_(3900.0, 10630.0]', 'gd_bin_Age_(17.999, 29.0]',\n",
       "       'gd_bin_Age_(29.0, 36.0]', 'gd_bin_Age_(36.0, 46.0]',\n",
       "       'gd_bin_Age_(46.0, 75.0]', 'gd_bin_IncomeTotal_(-0.001, 797.0]',\n",
       "       'gd_bin_IncomeTotal_(797.0, 1141.0]',\n",
       "       'gd_bin_IncomeTotal_(1141.0, 1700.0]',\n",
       "       'gd_bin_IncomeTotal_(1700.0, 228550.0]',\n",
       "       'gd_bin_DebtToIncomeRatio_(-0.001, 0.397]',\n",
       "       'gd_bin_DebtToIncomeRatio_(0.397, 0.556]',\n",
       "       'gd_bin_DebtToIncomeRatio_(0.556, 0.76]',\n",
       "       'gd_bin_DebtToIncomeRatio_(0.76, 10.038]',\n",
       "       'gd_bin_LoanDuration_(0.0, 12.0]', 'gd_bin_LoanDuration_(12.0, 24.0]',\n",
       "       'gd_bin_LoanDuration_(24.0, 36.0]', 'gd_bin_LoanDuration_(36.0, 48.0]',\n",
       "       'gd_bin_LoanDuration_(48.0, 60.0]'],\n",
       "      dtype='object')"
      ]
     },
     "execution_count": 12,
     "metadata": {},
     "output_type": "execute_result"
    }
   ],
   "source": [
    "df.columns"
   ]
  },
  {
   "cell_type": "code",
   "execution_count": 13,
   "id": "fa05556e",
   "metadata": {},
   "outputs": [
    {
     "data": {
      "text/plain": [
       "['norm_PrincipalBalance',\n",
       " 'norm_InterestAndPenaltyBalance',\n",
       " 'norm_Interest',\n",
       " 'norm_LoanDuration',\n",
       " 'norm_AppliedAmount',\n",
       " 'norm_Age',\n",
       " 'norm_IncomeTotal',\n",
       " 'norm_DebtToIncomeRatio',\n",
       " 'gd_Country_Estonia',\n",
       " 'gd_Country_Finland',\n",
       " 'gd_Country_Slovakia',\n",
       " 'gd_Country_Spain']"
      ]
     },
     "execution_count": 13,
     "metadata": {},
     "output_type": "execute_result"
    }
   ],
   "source": [
    "svm_cols = [col for col in df.columns if 'norm_' in col or 'gd_' in col and 'bin_' not in col]\n",
    "svm_cols"
   ]
  },
  {
   "cell_type": "code",
   "execution_count": 14,
   "id": "02c48554",
   "metadata": {},
   "outputs": [
    {
     "name": "stdout",
     "output_type": "stream",
     "text": [
      "0   norm_PrincipalBalance\n",
      "1   norm_InterestAndPenaltyBalance\n",
      "2   norm_Interest\n",
      "3   norm_LoanDuration\n",
      "4   norm_AppliedAmount\n",
      "5   norm_Age\n",
      "6   norm_IncomeTotal\n",
      "7   norm_DebtToIncomeRatio\n",
      "8   gd_Country_Estonia\n",
      "9   gd_Country_Finland\n",
      "10   gd_Country_Slovakia\n",
      "11   gd_Country_Spain\n",
      "12   Default\n",
      "13   NewCreditCustomer_x\n",
      "14   Employment\n"
     ]
    }
   ],
   "source": [
    "for i,j in enumerate(svm_df):\n",
    "    print(i,\" \",j)"
   ]
  },
  {
   "cell_type": "code",
   "execution_count": 15,
   "id": "630e5d3d",
   "metadata": {},
   "outputs": [
    {
     "data": {
      "text/plain": [
       "(17227, 15)"
      ]
     },
     "execution_count": 15,
     "metadata": {},
     "output_type": "execute_result"
    }
   ],
   "source": [
    "svm_df.shape"
   ]
  },
  {
   "cell_type": "markdown",
   "id": "107ea976",
   "metadata": {},
   "source": [
    "## KNN"
   ]
  },
  {
   "cell_type": "code",
   "execution_count": 16,
   "id": "fb27e76b",
   "metadata": {},
   "outputs": [],
   "source": [
    "binary_categoricals = [\"Default\", \"NewCreditCustomer_x\", \"Employment\"]"
   ]
  },
  {
   "cell_type": "markdown",
   "id": "af67465c",
   "metadata": {},
   "source": [
    "Required variables: Normalized Variables, Dummy Categoricals"
   ]
  },
  {
   "cell_type": "code",
   "execution_count": 17,
   "id": "ed20d2f3",
   "metadata": {},
   "outputs": [],
   "source": [
    "knn_cols = [col for col in df.columns if 'norm_' in col or ('gd_' in col and 'bin_' not in col)]\n",
    "knn_cols.extend(binary_categoricals)\n",
    "knn_df = df[knn_cols]"
   ]
  },
  {
   "cell_type": "code",
   "execution_count": 18,
   "id": "d07f6eef",
   "metadata": {},
   "outputs": [
    {
     "name": "stdout",
     "output_type": "stream",
     "text": [
      "0   norm_PrincipalBalance\n",
      "1   norm_InterestAndPenaltyBalance\n",
      "2   norm_Interest\n",
      "3   norm_LoanDuration\n",
      "4   norm_AppliedAmount\n",
      "5   norm_Age\n",
      "6   norm_IncomeTotal\n",
      "7   norm_DebtToIncomeRatio\n",
      "8   gd_Country_Estonia\n",
      "9   gd_Country_Finland\n",
      "10   gd_Country_Slovakia\n",
      "11   gd_Country_Spain\n",
      "12   Default\n",
      "13   NewCreditCustomer_x\n",
      "14   Employment\n"
     ]
    }
   ],
   "source": [
    "for i,j in enumerate(knn_df):\n",
    "    print(i,\" \",j)"
   ]
  },
  {
   "cell_type": "code",
   "execution_count": 104,
   "id": "a52b9309",
   "metadata": {},
   "outputs": [
    {
     "data": {
      "text/plain": [
       "(17227, 3)"
      ]
     },
     "execution_count": 104,
     "metadata": {},
     "output_type": "execute_result"
    }
   ],
   "source": [
    "knn_df.shape"
   ]
  },
  {
   "cell_type": "markdown",
   "id": "3e236f21",
   "metadata": {},
   "source": [
    "## CART"
   ]
  },
  {
   "cell_type": "markdown",
   "id": "8cc17d04",
   "metadata": {},
   "source": [
    "Required Variables:\n",
    "Dummy categoricals; non-normalized/non-binned numericals"
   ]
  },
  {
   "cell_type": "code",
   "execution_count": 21,
   "id": "1508dea1",
   "metadata": {},
   "outputs": [
    {
     "data": {
      "text/plain": [
       "Index(['PrincipalBalance_x', 'Country_x', 'InterestAndPenaltyBalance_x',\n",
       "       'Interest_x', 'LoanDuration_x', 'NewCreditCustomer_x',\n",
       "       'AppliedAmount_x', 'Age_x', 'IncomeTotal_x', 'Default',\n",
       "       'DebtToIncomeRatio', 'Employment', 'norm_PrincipalBalance',\n",
       "       'norm_InterestAndPenaltyBalance', 'norm_Interest', 'norm_LoanDuration',\n",
       "       'norm_AppliedAmount', 'norm_Age', 'norm_IncomeTotal',\n",
       "       'norm_DebtToIncomeRatio', 'gd_Country_Estonia', 'gd_Country_Finland',\n",
       "       'gd_Country_Slovakia', 'gd_Country_Spain', 'bin_PrincipalBalance',\n",
       "       'bin_InterestAndPenaltyBalance', 'bin_Interest', 'bin_AppliedAmount',\n",
       "       'bin_Age', 'bin_IncomeTotal', 'bin_DebtToIncomeRatio',\n",
       "       'bin_LoanDuration', 'gd_bin_PrincipalBalance_(-11.811, 0.0]',\n",
       "       'gd_bin_PrincipalBalance_(0.0, 1223.75]',\n",
       "       'gd_bin_PrincipalBalance_(1223.75, 10630.0]',\n",
       "       'gd_bin_InterestAndPenaltyBalance_(-2.661, 0.0]',\n",
       "       'gd_bin_InterestAndPenaltyBalance_(0.0, 2733.792]',\n",
       "       'gd_bin_InterestAndPenaltyBalance_(2733.792, 78982.07]',\n",
       "       'gd_bin_Interest_(4.999, 22.78]', 'gd_bin_Interest_(22.78, 29.57]',\n",
       "       'gd_bin_Interest_(29.57, 35.33]', 'gd_bin_Interest_(35.33, 263.63]',\n",
       "       'gd_bin_AppliedAmount_(63.911, 1060.0]',\n",
       "       'gd_bin_AppliedAmount_(1060.0, 2125.0]',\n",
       "       'gd_bin_AppliedAmount_(2125.0, 3900.0]',\n",
       "       'gd_bin_AppliedAmount_(3900.0, 10630.0]', 'gd_bin_Age_(17.999, 29.0]',\n",
       "       'gd_bin_Age_(29.0, 36.0]', 'gd_bin_Age_(36.0, 46.0]',\n",
       "       'gd_bin_Age_(46.0, 75.0]', 'gd_bin_IncomeTotal_(-0.001, 797.0]',\n",
       "       'gd_bin_IncomeTotal_(797.0, 1141.0]',\n",
       "       'gd_bin_IncomeTotal_(1141.0, 1700.0]',\n",
       "       'gd_bin_IncomeTotal_(1700.0, 228550.0]',\n",
       "       'gd_bin_DebtToIncomeRatio_(-0.001, 0.397]',\n",
       "       'gd_bin_DebtToIncomeRatio_(0.397, 0.556]',\n",
       "       'gd_bin_DebtToIncomeRatio_(0.556, 0.76]',\n",
       "       'gd_bin_DebtToIncomeRatio_(0.76, 10.038]',\n",
       "       'gd_bin_LoanDuration_(0.0, 12.0]', 'gd_bin_LoanDuration_(12.0, 24.0]',\n",
       "       'gd_bin_LoanDuration_(24.0, 36.0]', 'gd_bin_LoanDuration_(36.0, 48.0]',\n",
       "       'gd_bin_LoanDuration_(48.0, 60.0]'],\n",
       "      dtype='object')"
      ]
     },
     "execution_count": 21,
     "metadata": {},
     "output_type": "execute_result"
    }
   ],
   "source": [
    "df_no_cat_columns = df.select_dtypes(exclude='category').dtypes.index\n",
    "df_no_cat_columns"
   ]
  },
  {
   "cell_type": "code",
   "execution_count": 23,
   "id": "1d832133",
   "metadata": {},
   "outputs": [
    {
     "data": {
      "text/plain": [
       "['PrincipalBalance_x',\n",
       " 'Country_x',\n",
       " 'InterestAndPenaltyBalance_x',\n",
       " 'Interest_x',\n",
       " 'LoanDuration_x',\n",
       " 'NewCreditCustomer_x',\n",
       " 'AppliedAmount_x',\n",
       " 'Age_x',\n",
       " 'IncomeTotal_x',\n",
       " 'Default',\n",
       " 'DebtToIncomeRatio',\n",
       " 'Employment',\n",
       " 'gd_Country_Estonia',\n",
       " 'gd_Country_Finland',\n",
       " 'gd_Country_Slovakia',\n",
       " 'gd_Country_Spain']"
      ]
     },
     "execution_count": 23,
     "metadata": {},
     "output_type": "execute_result"
    }
   ],
   "source": [
    "cart_cols = [col for col in df_no_cat_columns if ('norm_' not in col) and 'bin' not in col]\n",
    "cart_cols"
   ]
  },
  {
   "cell_type": "code",
   "execution_count": 24,
   "id": "2fc13a83",
   "metadata": {},
   "outputs": [],
   "source": [
    "cart_df = df[cart_cols]"
   ]
  },
  {
   "cell_type": "code",
   "execution_count": 25,
   "id": "74c57e7f",
   "metadata": {},
   "outputs": [
    {
     "name": "stdout",
     "output_type": "stream",
     "text": [
      "0   PrincipalBalance_x\n",
      "1   Country_x\n",
      "2   InterestAndPenaltyBalance_x\n",
      "3   Interest_x\n",
      "4   LoanDuration_x\n",
      "5   NewCreditCustomer_x\n",
      "6   AppliedAmount_x\n",
      "7   Age_x\n",
      "8   IncomeTotal_x\n",
      "9   Default\n",
      "10   DebtToIncomeRatio\n",
      "11   Employment\n",
      "12   gd_Country_Estonia\n",
      "13   gd_Country_Finland\n",
      "14   gd_Country_Slovakia\n",
      "15   gd_Country_Spain\n"
     ]
    }
   ],
   "source": [
    "for i,j in enumerate(cart_df):\n",
    "    print(i,\" \",j)"
   ]
  },
  {
   "cell_type": "code",
   "execution_count": 26,
   "id": "137b967f",
   "metadata": {},
   "outputs": [
    {
     "data": {
      "text/plain": [
       "(17227, 16)"
      ]
     },
     "execution_count": 26,
     "metadata": {},
     "output_type": "execute_result"
    }
   ],
   "source": [
    "cart_df.shape"
   ]
  },
  {
   "cell_type": "markdown",
   "id": "cc2a5e8a",
   "metadata": {},
   "source": [
    "## Model Running"
   ]
  },
  {
   "cell_type": "code",
   "execution_count": 27,
   "id": "dc97d295",
   "metadata": {},
   "outputs": [],
   "source": [
    "# Imports.\n",
    "from sklearn.tree import DecisionTreeClassifier # The model \n",
    "from sklearn.metrics import accuracy_score # Metrics\n",
    "from sklearn.metrics import confusion_matrix # Metrics\n",
    "from sklearn.metrics import classification_report\n",
    "from sklearn import metrics\n",
    "from dmba import plotDecisionTree, classificationSummary \n",
    "from sklearn.svm import SVC\n",
    "from sklearn.model_selection import (train_test_split, cross_val_score,\n",
    "cross_val_predict, GridSearchCV, RandomizedSearchCV) # for splitting and avoiding overfitting on model\n",
    "\n",
    "from sklearn.ensemble import RandomForestClassifier\n",
    "import statsmodels.api as sm\n",
    "import datetime as dt\n",
    "# Import module for KNN\n",
    "from sklearn.neighbors import KNeighborsClassifier\n",
    "%matplotlib inline"
   ]
  },
  {
   "cell_type": "code",
   "execution_count": 28,
   "id": "e42ec97a",
   "metadata": {},
   "outputs": [
    {
     "data": {
      "text/plain": [
       "0    68.1\n",
       "1    31.9\n",
       "Name: Default, dtype: float64"
      ]
     },
     "execution_count": 28,
     "metadata": {},
     "output_type": "execute_result"
    }
   ],
   "source": [
    "df.Default.value_counts(normalize=True).round(3) * 100"
   ]
  },
  {
   "cell_type": "markdown",
   "id": "31d08c50",
   "metadata": {},
   "source": [
    "## SVM"
   ]
  },
  {
   "cell_type": "code",
   "execution_count": 29,
   "id": "d24bbd5e",
   "metadata": {},
   "outputs": [
    {
     "data": {
      "text/plain": [
       "norm_PrincipalBalance             float64\n",
       "norm_InterestAndPenaltyBalance    float64\n",
       "norm_Interest                     float64\n",
       "norm_LoanDuration                 float64\n",
       "norm_AppliedAmount                float64\n",
       "norm_Age                          float64\n",
       "norm_IncomeTotal                  float64\n",
       "norm_DebtToIncomeRatio            float64\n",
       "gd_Country_Estonia                  int64\n",
       "gd_Country_Finland                  int64\n",
       "gd_Country_Slovakia                 int64\n",
       "gd_Country_Spain                    int64\n",
       "Default                             int64\n",
       "NewCreditCustomer_x                 int64\n",
       "Employment                          int64\n",
       "dtype: object"
      ]
     },
     "execution_count": 29,
     "metadata": {},
     "output_type": "execute_result"
    }
   ],
   "source": [
    "svm_df.dtypes"
   ]
  },
  {
   "cell_type": "code",
   "execution_count": 30,
   "id": "bb98f089",
   "metadata": {},
   "outputs": [],
   "source": [
    "svm_x = knn_df.drop(columns='Default')\n",
    "svm_y = knn_df.Default"
   ]
  },
  {
   "cell_type": "code",
   "execution_count": 32,
   "id": "e6e6295e",
   "metadata": {},
   "outputs": [
    {
     "data": {
      "text/html": [
       "<div>\n",
       "<style scoped>\n",
       "    .dataframe tbody tr th:only-of-type {\n",
       "        vertical-align: middle;\n",
       "    }\n",
       "\n",
       "    .dataframe tbody tr th {\n",
       "        vertical-align: top;\n",
       "    }\n",
       "\n",
       "    .dataframe thead th {\n",
       "        text-align: right;\n",
       "    }\n",
       "</style>\n",
       "<table border=\"1\" class=\"dataframe\">\n",
       "  <thead>\n",
       "    <tr style=\"text-align: right;\">\n",
       "      <th></th>\n",
       "      <th>norm_PrincipalBalance</th>\n",
       "      <th>norm_InterestAndPenaltyBalance</th>\n",
       "      <th>norm_Interest</th>\n",
       "      <th>norm_LoanDuration</th>\n",
       "      <th>norm_AppliedAmount</th>\n",
       "      <th>norm_Age</th>\n",
       "      <th>norm_IncomeTotal</th>\n",
       "      <th>norm_DebtToIncomeRatio</th>\n",
       "      <th>gd_Country_Estonia</th>\n",
       "      <th>gd_Country_Finland</th>\n",
       "      <th>gd_Country_Slovakia</th>\n",
       "      <th>gd_Country_Spain</th>\n",
       "      <th>NewCreditCustomer_x</th>\n",
       "      <th>Employment</th>\n",
       "    </tr>\n",
       "  </thead>\n",
       "  <tbody>\n",
       "    <tr>\n",
       "      <th>0</th>\n",
       "      <td>0.198614</td>\n",
       "      <td>-0.357822</td>\n",
       "      <td>-0.546364</td>\n",
       "      <td>0.972352</td>\n",
       "      <td>-0.342973</td>\n",
       "      <td>1.315305</td>\n",
       "      <td>-0.482560</td>\n",
       "      <td>2.109339</td>\n",
       "      <td>1</td>\n",
       "      <td>0</td>\n",
       "      <td>0</td>\n",
       "      <td>0</td>\n",
       "      <td>0</td>\n",
       "      <td>0</td>\n",
       "    </tr>\n",
       "    <tr>\n",
       "      <th>1</th>\n",
       "      <td>1.033725</td>\n",
       "      <td>-0.038367</td>\n",
       "      <td>-0.693687</td>\n",
       "      <td>0.972352</td>\n",
       "      <td>0.007296</td>\n",
       "      <td>1.051631</td>\n",
       "      <td>-0.235042</td>\n",
       "      <td>0.550543</td>\n",
       "      <td>1</td>\n",
       "      <td>0</td>\n",
       "      <td>0</td>\n",
       "      <td>0</td>\n",
       "      <td>0</td>\n",
       "      <td>1</td>\n",
       "    </tr>\n",
       "    <tr>\n",
       "      <th>2</th>\n",
       "      <td>-0.555156</td>\n",
       "      <td>-0.434278</td>\n",
       "      <td>-0.825703</td>\n",
       "      <td>0.972352</td>\n",
       "      <td>3.061636</td>\n",
       "      <td>0.524283</td>\n",
       "      <td>-0.099043</td>\n",
       "      <td>0.371002</td>\n",
       "      <td>1</td>\n",
       "      <td>0</td>\n",
       "      <td>0</td>\n",
       "      <td>0</td>\n",
       "      <td>1</td>\n",
       "      <td>1</td>\n",
       "    </tr>\n",
       "    <tr>\n",
       "      <th>3</th>\n",
       "      <td>0.119985</td>\n",
       "      <td>0.054338</td>\n",
       "      <td>0.197136</td>\n",
       "      <td>0.972352</td>\n",
       "      <td>-0.593164</td>\n",
       "      <td>0.348500</td>\n",
       "      <td>-0.251816</td>\n",
       "      <td>-0.612928</td>\n",
       "      <td>0</td>\n",
       "      <td>0</td>\n",
       "      <td>0</td>\n",
       "      <td>1</td>\n",
       "      <td>1</td>\n",
       "      <td>1</td>\n",
       "    </tr>\n",
       "    <tr>\n",
       "      <th>4</th>\n",
       "      <td>0.155670</td>\n",
       "      <td>0.293716</td>\n",
       "      <td>1.268189</td>\n",
       "      <td>0.309129</td>\n",
       "      <td>-0.555135</td>\n",
       "      <td>-0.354630</td>\n",
       "      <td>-0.327068</td>\n",
       "      <td>2.048883</td>\n",
       "      <td>0</td>\n",
       "      <td>0</td>\n",
       "      <td>0</td>\n",
       "      <td>1</td>\n",
       "      <td>1</td>\n",
       "      <td>0</td>\n",
       "    </tr>\n",
       "    <tr>\n",
       "      <th>...</th>\n",
       "      <td>...</td>\n",
       "      <td>...</td>\n",
       "      <td>...</td>\n",
       "      <td>...</td>\n",
       "      <td>...</td>\n",
       "      <td>...</td>\n",
       "      <td>...</td>\n",
       "      <td>...</td>\n",
       "      <td>...</td>\n",
       "      <td>...</td>\n",
       "      <td>...</td>\n",
       "      <td>...</td>\n",
       "      <td>...</td>\n",
       "      <td>...</td>\n",
       "    </tr>\n",
       "    <tr>\n",
       "      <th>33337</th>\n",
       "      <td>-0.555156</td>\n",
       "      <td>-0.434278</td>\n",
       "      <td>-0.521492</td>\n",
       "      <td>-0.354095</td>\n",
       "      <td>0.807909</td>\n",
       "      <td>0.787957</td>\n",
       "      <td>0.716950</td>\n",
       "      <td>-0.513846</td>\n",
       "      <td>1</td>\n",
       "      <td>0</td>\n",
       "      <td>0</td>\n",
       "      <td>0</td>\n",
       "      <td>1</td>\n",
       "      <td>1</td>\n",
       "    </tr>\n",
       "    <tr>\n",
       "      <th>33340</th>\n",
       "      <td>-0.555156</td>\n",
       "      <td>-0.434278</td>\n",
       "      <td>-0.688712</td>\n",
       "      <td>0.972352</td>\n",
       "      <td>0.007296</td>\n",
       "      <td>2.018435</td>\n",
       "      <td>0.431806</td>\n",
       "      <td>-0.411257</td>\n",
       "      <td>0</td>\n",
       "      <td>1</td>\n",
       "      <td>0</td>\n",
       "      <td>0</td>\n",
       "      <td>1</td>\n",
       "      <td>1</td>\n",
       "    </tr>\n",
       "    <tr>\n",
       "      <th>33343</th>\n",
       "      <td>0.749124</td>\n",
       "      <td>0.298519</td>\n",
       "      <td>-0.055800</td>\n",
       "      <td>0.972352</td>\n",
       "      <td>-0.393011</td>\n",
       "      <td>-0.003065</td>\n",
       "      <td>0.399619</td>\n",
       "      <td>-0.739072</td>\n",
       "      <td>0</td>\n",
       "      <td>1</td>\n",
       "      <td>0</td>\n",
       "      <td>0</td>\n",
       "      <td>1</td>\n",
       "      <td>1</td>\n",
       "    </tr>\n",
       "    <tr>\n",
       "      <th>33346</th>\n",
       "      <td>-0.555156</td>\n",
       "      <td>-0.434278</td>\n",
       "      <td>-0.521492</td>\n",
       "      <td>0.972352</td>\n",
       "      <td>0.007296</td>\n",
       "      <td>1.754761</td>\n",
       "      <td>-0.484374</td>\n",
       "      <td>1.137440</td>\n",
       "      <td>1</td>\n",
       "      <td>0</td>\n",
       "      <td>0</td>\n",
       "      <td>0</td>\n",
       "      <td>1</td>\n",
       "      <td>1</td>\n",
       "    </tr>\n",
       "    <tr>\n",
       "      <th>33347</th>\n",
       "      <td>-0.555156</td>\n",
       "      <td>-0.434278</td>\n",
       "      <td>-0.722003</td>\n",
       "      <td>0.309129</td>\n",
       "      <td>-0.673226</td>\n",
       "      <td>2.282109</td>\n",
       "      <td>-0.250002</td>\n",
       "      <td>0.859768</td>\n",
       "      <td>1</td>\n",
       "      <td>0</td>\n",
       "      <td>0</td>\n",
       "      <td>0</td>\n",
       "      <td>0</td>\n",
       "      <td>0</td>\n",
       "    </tr>\n",
       "  </tbody>\n",
       "</table>\n",
       "<p>17227 rows × 14 columns</p>\n",
       "</div>"
      ],
      "text/plain": [
       "       norm_PrincipalBalance  norm_InterestAndPenaltyBalance  norm_Interest  \\\n",
       "0                   0.198614                       -0.357822      -0.546364   \n",
       "1                   1.033725                       -0.038367      -0.693687   \n",
       "2                  -0.555156                       -0.434278      -0.825703   \n",
       "3                   0.119985                        0.054338       0.197136   \n",
       "4                   0.155670                        0.293716       1.268189   \n",
       "...                      ...                             ...            ...   \n",
       "33337              -0.555156                       -0.434278      -0.521492   \n",
       "33340              -0.555156                       -0.434278      -0.688712   \n",
       "33343               0.749124                        0.298519      -0.055800   \n",
       "33346              -0.555156                       -0.434278      -0.521492   \n",
       "33347              -0.555156                       -0.434278      -0.722003   \n",
       "\n",
       "       norm_LoanDuration  norm_AppliedAmount  norm_Age  norm_IncomeTotal  \\\n",
       "0               0.972352           -0.342973  1.315305         -0.482560   \n",
       "1               0.972352            0.007296  1.051631         -0.235042   \n",
       "2               0.972352            3.061636  0.524283         -0.099043   \n",
       "3               0.972352           -0.593164  0.348500         -0.251816   \n",
       "4               0.309129           -0.555135 -0.354630         -0.327068   \n",
       "...                  ...                 ...       ...               ...   \n",
       "33337          -0.354095            0.807909  0.787957          0.716950   \n",
       "33340           0.972352            0.007296  2.018435          0.431806   \n",
       "33343           0.972352           -0.393011 -0.003065          0.399619   \n",
       "33346           0.972352            0.007296  1.754761         -0.484374   \n",
       "33347           0.309129           -0.673226  2.282109         -0.250002   \n",
       "\n",
       "       norm_DebtToIncomeRatio  gd_Country_Estonia  gd_Country_Finland  \\\n",
       "0                    2.109339                   1                   0   \n",
       "1                    0.550543                   1                   0   \n",
       "2                    0.371002                   1                   0   \n",
       "3                   -0.612928                   0                   0   \n",
       "4                    2.048883                   0                   0   \n",
       "...                       ...                 ...                 ...   \n",
       "33337               -0.513846                   1                   0   \n",
       "33340               -0.411257                   0                   1   \n",
       "33343               -0.739072                   0                   1   \n",
       "33346                1.137440                   1                   0   \n",
       "33347                0.859768                   1                   0   \n",
       "\n",
       "       gd_Country_Slovakia  gd_Country_Spain  NewCreditCustomer_x  Employment  \n",
       "0                        0                 0                    0           0  \n",
       "1                        0                 0                    0           1  \n",
       "2                        0                 0                    1           1  \n",
       "3                        0                 1                    1           1  \n",
       "4                        0                 1                    1           0  \n",
       "...                    ...               ...                  ...         ...  \n",
       "33337                    0                 0                    1           1  \n",
       "33340                    0                 0                    1           1  \n",
       "33343                    0                 0                    1           1  \n",
       "33346                    0                 0                    1           1  \n",
       "33347                    0                 0                    0           0  \n",
       "\n",
       "[17227 rows x 14 columns]"
      ]
     },
     "execution_count": 32,
     "metadata": {},
     "output_type": "execute_result"
    }
   ],
   "source": [
    "svm_x"
   ]
  },
  {
   "cell_type": "code",
   "execution_count": 31,
   "id": "0f5de058",
   "metadata": {},
   "outputs": [],
   "source": [
    "svm_train_x, svm_test_x, svm_train_y,svm_test_y = train_test_split(svm_x,svm_y, test_size = 0.3, random_state=1)"
   ]
  },
  {
   "cell_type": "code",
   "execution_count": 33,
   "id": "a01ceffb",
   "metadata": {},
   "outputs": [
    {
     "name": "stdout",
     "output_type": "stream",
     "text": [
      "Fitting 5 folds for each of 18 candidates, totalling 90 fits\n",
      "[CV] END .....................C=0.1, gamma=auto, kernel=poly; total time=   8.9s\n",
      "[CV] END .....................C=0.1, gamma=auto, kernel=poly; total time=   8.8s\n",
      "[CV] END .....................C=0.1, gamma=auto, kernel=poly; total time=   8.8s\n",
      "[CV] END .....................C=0.1, gamma=auto, kernel=poly; total time=   8.7s\n",
      "[CV] END .....................C=0.1, gamma=auto, kernel=poly; total time=   8.8s\n",
      "[CV] END ...................C=0.1, gamma=auto, kernel=linear; total time=   6.2s\n",
      "[CV] END ...................C=0.1, gamma=auto, kernel=linear; total time=   6.2s\n",
      "[CV] END ...................C=0.1, gamma=auto, kernel=linear; total time=   6.3s\n",
      "[CV] END ...................C=0.1, gamma=auto, kernel=linear; total time=   6.0s\n",
      "[CV] END ...................C=0.1, gamma=auto, kernel=linear; total time=   6.0s\n",
      "[CV] END ......................C=0.1, gamma=auto, kernel=rbf; total time=  10.1s\n",
      "[CV] END ......................C=0.1, gamma=auto, kernel=rbf; total time=  10.2s\n",
      "[CV] END ......................C=0.1, gamma=auto, kernel=rbf; total time=   9.9s\n",
      "[CV] END ......................C=0.1, gamma=auto, kernel=rbf; total time=  10.0s\n",
      "[CV] END ......................C=0.1, gamma=auto, kernel=rbf; total time=   9.9s\n",
      "[CV] END ....................C=0.1, gamma=scale, kernel=poly; total time=   7.8s\n",
      "[CV] END ....................C=0.1, gamma=scale, kernel=poly; total time=   8.0s\n",
      "[CV] END ....................C=0.1, gamma=scale, kernel=poly; total time=   8.0s\n",
      "[CV] END ....................C=0.1, gamma=scale, kernel=poly; total time=   7.9s\n",
      "[CV] END ....................C=0.1, gamma=scale, kernel=poly; total time=   7.8s\n",
      "[CV] END ..................C=0.1, gamma=scale, kernel=linear; total time=   6.3s\n",
      "[CV] END ..................C=0.1, gamma=scale, kernel=linear; total time=   6.2s\n",
      "[CV] END ..................C=0.1, gamma=scale, kernel=linear; total time=   6.3s\n",
      "[CV] END ..................C=0.1, gamma=scale, kernel=linear; total time=   6.0s\n",
      "[CV] END ..................C=0.1, gamma=scale, kernel=linear; total time=   6.1s\n",
      "[CV] END .....................C=0.1, gamma=scale, kernel=rbf; total time=  10.1s\n",
      "[CV] END .....................C=0.1, gamma=scale, kernel=rbf; total time=  10.1s\n",
      "[CV] END .....................C=0.1, gamma=scale, kernel=rbf; total time=  10.0s\n",
      "[CV] END .....................C=0.1, gamma=scale, kernel=rbf; total time=  10.1s\n",
      "[CV] END .....................C=0.1, gamma=scale, kernel=rbf; total time=   9.9s\n",
      "[CV] END .......................C=1, gamma=auto, kernel=poly; total time=   7.0s\n",
      "[CV] END .......................C=1, gamma=auto, kernel=poly; total time=   7.1s\n",
      "[CV] END .......................C=1, gamma=auto, kernel=poly; total time=   7.3s\n",
      "[CV] END .......................C=1, gamma=auto, kernel=poly; total time=   7.2s\n",
      "[CV] END .......................C=1, gamma=auto, kernel=poly; total time=   7.3s\n",
      "[CV] END .....................C=1, gamma=auto, kernel=linear; total time=   9.3s\n",
      "[CV] END .....................C=1, gamma=auto, kernel=linear; total time=   8.7s\n",
      "[CV] END .....................C=1, gamma=auto, kernel=linear; total time=   8.7s\n",
      "[CV] END .....................C=1, gamma=auto, kernel=linear; total time=   8.5s\n",
      "[CV] END .....................C=1, gamma=auto, kernel=linear; total time=   8.8s\n",
      "[CV] END ........................C=1, gamma=auto, kernel=rbf; total time=   8.3s\n",
      "[CV] END ........................C=1, gamma=auto, kernel=rbf; total time=   8.3s\n",
      "[CV] END ........................C=1, gamma=auto, kernel=rbf; total time=   8.2s\n",
      "[CV] END ........................C=1, gamma=auto, kernel=rbf; total time=   8.2s\n",
      "[CV] END ........................C=1, gamma=auto, kernel=rbf; total time=   8.2s\n",
      "[CV] END ......................C=1, gamma=scale, kernel=poly; total time=   7.1s\n",
      "[CV] END ......................C=1, gamma=scale, kernel=poly; total time=   7.2s\n",
      "[CV] END ......................C=1, gamma=scale, kernel=poly; total time=   7.5s\n",
      "[CV] END ......................C=1, gamma=scale, kernel=poly; total time=   7.3s\n",
      "[CV] END ......................C=1, gamma=scale, kernel=poly; total time=   7.2s\n",
      "[CV] END ....................C=1, gamma=scale, kernel=linear; total time=   9.2s\n",
      "[CV] END ....................C=1, gamma=scale, kernel=linear; total time=   8.8s\n",
      "[CV] END ....................C=1, gamma=scale, kernel=linear; total time=   8.6s\n",
      "[CV] END ....................C=1, gamma=scale, kernel=linear; total time=   8.7s\n",
      "[CV] END ....................C=1, gamma=scale, kernel=linear; total time=   8.8s\n",
      "[CV] END .......................C=1, gamma=scale, kernel=rbf; total time=   8.3s\n",
      "[CV] END .......................C=1, gamma=scale, kernel=rbf; total time=   8.4s\n",
      "[CV] END .......................C=1, gamma=scale, kernel=rbf; total time=   8.3s\n",
      "[CV] END .......................C=1, gamma=scale, kernel=rbf; total time=   8.3s\n",
      "[CV] END .......................C=1, gamma=scale, kernel=rbf; total time=   8.3s\n",
      "[CV] END ......................C=10, gamma=auto, kernel=poly; total time=   8.2s\n",
      "[CV] END ......................C=10, gamma=auto, kernel=poly; total time=   8.2s\n",
      "[CV] END ......................C=10, gamma=auto, kernel=poly; total time=   9.0s\n",
      "[CV] END ......................C=10, gamma=auto, kernel=poly; total time=   8.2s\n",
      "[CV] END ......................C=10, gamma=auto, kernel=poly; total time=   8.1s\n",
      "[CV] END ....................C=10, gamma=auto, kernel=linear; total time=  22.3s\n",
      "[CV] END ....................C=10, gamma=auto, kernel=linear; total time=  21.7s\n",
      "[CV] END ....................C=10, gamma=auto, kernel=linear; total time=  23.0s\n",
      "[CV] END ....................C=10, gamma=auto, kernel=linear; total time=  22.9s\n",
      "[CV] END ....................C=10, gamma=auto, kernel=linear; total time=  21.9s\n",
      "[CV] END .......................C=10, gamma=auto, kernel=rbf; total time=   8.6s\n",
      "[CV] END .......................C=10, gamma=auto, kernel=rbf; total time=   8.7s\n",
      "[CV] END .......................C=10, gamma=auto, kernel=rbf; total time=   8.5s\n",
      "[CV] END .......................C=10, gamma=auto, kernel=rbf; total time=   8.5s\n",
      "[CV] END .......................C=10, gamma=auto, kernel=rbf; total time=   8.7s\n",
      "[CV] END .....................C=10, gamma=scale, kernel=poly; total time=  12.4s\n",
      "[CV] END .....................C=10, gamma=scale, kernel=poly; total time=  11.9s\n",
      "[CV] END .....................C=10, gamma=scale, kernel=poly; total time=  14.4s\n",
      "[CV] END .....................C=10, gamma=scale, kernel=poly; total time=  13.7s\n",
      "[CV] END .....................C=10, gamma=scale, kernel=poly; total time=  12.1s\n",
      "[CV] END ...................C=10, gamma=scale, kernel=linear; total time=  23.1s\n",
      "[CV] END ...................C=10, gamma=scale, kernel=linear; total time=  22.2s\n",
      "[CV] END ...................C=10, gamma=scale, kernel=linear; total time=  22.7s\n",
      "[CV] END ...................C=10, gamma=scale, kernel=linear; total time=  22.3s\n",
      "[CV] END ...................C=10, gamma=scale, kernel=linear; total time=  21.3s\n",
      "[CV] END ......................C=10, gamma=scale, kernel=rbf; total time=   8.7s\n",
      "[CV] END ......................C=10, gamma=scale, kernel=rbf; total time=   8.7s\n",
      "[CV] END ......................C=10, gamma=scale, kernel=rbf; total time=   8.5s\n",
      "[CV] END ......................C=10, gamma=scale, kernel=rbf; total time=   8.7s\n",
      "[CV] END ......................C=10, gamma=scale, kernel=rbf; total time=   8.5s\n",
      "Best Score: 0.8946749729852053\n",
      "Best Parameter: {'C': 10, 'gamma': 'scale', 'kernel': 'rbf'}\n"
     ]
    }
   ],
   "source": [
    "#tuning parameters - GridSearch\n",
    "#SVM with grid search(C values: 0.1,1,10; gamma values: \"auto\",\"scale\", kernel: \"poly\",'linear','rbf')\n",
    "svm_param_grid = {'C': [0.1, 1, 10],\n",
    "                  'gamma': [\"auto\",\"scale\"],\n",
    "                  'kernel': ['poly','linear','rbf']}\n",
    "\n",
    "svm_grid = GridSearchCV(estimator=SVC(probability=True),\n",
    "                        param_grid=svm_param_grid,\n",
    "                        refit=True,\n",
    "                        verbose=2)\n",
    "\n",
    "svm_grid.fit(svm_train_x, svm_train_y)\n",
    "\n",
    "print('Best Score:', svm_grid.best_score_)\n",
    "print('Best Parameter:', svm_grid.best_params_)"
   ]
  },
  {
   "cell_type": "raw",
   "id": "3a97ec67",
   "metadata": {},
   "source": [
    "\n",
    "df"
   ]
  },
  {
   "cell_type": "code",
   "execution_count": 118,
   "id": "f69868f4",
   "metadata": {},
   "outputs": [],
   "source": [
    "svm_matrix =  metrics.confusion_matrix(svm_test_y, pred_y)"
   ]
  },
  {
   "cell_type": "code",
   "execution_count": 128,
   "id": "1f1b3336",
   "metadata": {},
   "outputs": [
    {
     "data": {
      "text/plain": [
       "Text(0.5, 257.44, 'Predicted default')"
      ]
     },
     "execution_count": 128,
     "metadata": {},
     "output_type": "execute_result"
    },
    {
     "data": {
      "image/png": "[encoded data removed]",
      "text/plain": [
       "<Figure size 432x288 with 2 Axes>"
      ]
     },
     "metadata": {
      "needs_background": "light"
     },
     "output_type": "display_data"
    }
   ],
   "source": [
    "class_names=[0,1] # name  of classes\n",
    "fig, ax = plt.subplots()\n",
    "tick_marks = np.arange(len(class_names))\n",
    "plt.xticks(tick_marks, class_names)\n",
    "plt.yticks(tick_marks, class_names)\n",
    "sns.heatmap(pd.DataFrame(svm_matrix), annot=True, cmap=\"RdYlBu\" ,fmt='g') #heatmap\n",
    "ax.xaxis.set_label_position(\"top\")\n",
    "plt.tight_layout()\n",
    "plt.title('SVM Confusion matrix', y=1.1)\n",
    "plt.ylabel('Actual default')\n",
    "plt.xlabel('Predicted default')"
   ]
  },
  {
   "cell_type": "code",
   "execution_count": 129,
   "id": "653151b9",
   "metadata": {},
   "outputs": [
    {
     "name": "stdout",
     "output_type": "stream",
     "text": [
      "Accuracy: 0.6720835751596054\n",
      "Precision: 0.0\n",
      "Recall: 0.0\n"
     ]
    }
   ],
   "source": [
    "print(\"Accuracy:\",metrics.accuracy_score(svm_test_y, pred_y))\n",
    "print(\"Precision:\",metrics.precision_score(svm_test_y, pred_y))\n",
    "print(\"Recall:\",metrics.recall_score(svm_test_y, pred_y))"
   ]
  },
  {
   "cell_type": "code",
   "execution_count": 130,
   "id": "3f115b3f",
   "metadata": {},
   "outputs": [
    {
     "data": {
      "image/png": "[encoded data removed]",
      "text/plain": [
       "<Figure size 432x288 with 1 Axes>"
      ]
     },
     "metadata": {
      "needs_background": "light"
     },
     "output_type": "display_data"
    }
   ],
   "source": [
    "#ROC Curve\n",
    "y_pred_proba = optimizedSVM.predict_proba(svm_test_x)[::,1]\n",
    "fpr, tpr, _ = metrics.roc_curve(svm_test_y,  y_pred_proba)\n",
    "auc = metrics.roc_auc_score(svm_test_y, y_pred_proba)\n",
    "plt.title('SVM ROC Curve', y=1.1)\n",
    "plt.plot(fpr,tpr,label=\"data, auc=\"+str(auc))\n",
    "plt.legend(loc=4)\n",
    "plt.show()"
   ]
  },
  {
   "cell_type": "markdown",
   "id": "670f1de4",
   "metadata": {},
   "source": [
    "## KNN"
   ]
  },
  {
   "cell_type": "code",
   "execution_count": null,
   "id": "d391ed41",
   "metadata": {},
   "outputs": [],
   "source": [
    "knn_df.dtypes"
   ]
  },
  {
   "cell_type": "code",
   "execution_count": null,
   "id": "54bf74a3",
   "metadata": {},
   "outputs": [],
   "source": [
    "knn_x = knn_df.drop(columns='Default')\n",
    "knn_y = knn_df.Default"
   ]
  },
  {
   "cell_type": "code",
   "execution_count": null,
   "id": "cdedcfc3",
   "metadata": {},
   "outputs": [],
   "source": [
    "knn_train_x, knn_test_x, knn_train_y,knn_test_y = train_test_split(knn_x,knn_y, test_size = 0.3, random_state=1)"
   ]
  },
  {
   "cell_type": "code",
   "execution_count": null,
   "id": "281da331",
   "metadata": {},
   "outputs": [],
   "source": [
    "estimator=KNeighborsClassifier()\n",
    "estimator.get_params().keys()"
   ]
  },
  {
   "cell_type": "code",
   "execution_count": null,
   "id": "5951c38e",
   "metadata": {},
   "outputs": [],
   "source": [
    "#tuning parameters - GridSearch\n",
    "knn_param_grid = {\n",
    "    'n_neighbors':np.arange(1,15,1)\n",
    "}\n",
    "knn_grid = GridSearchCV(estimator=KNeighborsClassifier(),\n",
    "                     param_grid = knn_param_grid,\n",
    "                     cv=5,\n",
    "                     n_jobs=-1)\n",
    "knn_grid.fit(knn_train_x,knn_train_y)\n",
    "print('Best Score:', knn_grid.best_score_)\n",
    "print('Best Parameter:', knn_grid.best_params_)"
   ]
  },
  {
   "cell_type": "code",
   "execution_count": null,
   "id": "68efd473",
   "metadata": {},
   "outputs": [],
   "source": [
    "knn = KNeighborsClassifier(n_neighbors=11)\n",
    "knn.fit(knn_train_x, knn_train_y)"
   ]
  },
  {
   "cell_type": "code",
   "execution_count": null,
   "id": "b59657e4",
   "metadata": {},
   "outputs": [],
   "source": [
    "#training model result\n",
    "pred_y = knn.predict(knn_train_x)\n",
    "print(classificationSummary(knn_train_y,pred_y))\n",
    "print(classification_report(knn_train_y,pred_y))"
   ]
  },
  {
   "cell_type": "code",
   "execution_count": null,
   "id": "bd5ce7ff",
   "metadata": {},
   "outputs": [],
   "source": [
    "#testing model result\n",
    "pred_y = knn.predict(knn_test_x)\n",
    "print(classificationSummary(knn_test_y,pred_y))\n",
    "print(classification_report(knn_test_y,pred_y))"
   ]
  },
  {
   "cell_type": "code",
   "execution_count": null,
   "id": "5ebe84db",
   "metadata": {},
   "outputs": [],
   "source": [
    "knn_matrix =  metrics.confusion_matrix(knn_test_y, pred_y)"
   ]
  },
  {
   "cell_type": "code",
   "execution_count": null,
   "id": "89527927",
   "metadata": {},
   "outputs": [],
   "source": [
    "class_names=[0,1] # name  of classes\n",
    "fig, ax = plt.subplots()\n",
    "tick_marks = np.arange(len(class_names))\n",
    "plt.xticks(tick_marks, class_names)\n",
    "plt.yticks(tick_marks, class_names)\n",
    "sns.heatmap(pd.DataFrame(knn_matrix), annot=True, cmap=\"RdYlBu\" ,fmt='g') #heatmap\n",
    "ax.xaxis.set_label_position(\"top\")\n",
    "plt.tight_layout()\n",
    "plt.title('KNN Confusion matrix', y=1.1)\n",
    "plt.ylabel('Actual default')\n",
    "plt.xlabel('Predicted default')"
   ]
  },
  {
   "cell_type": "code",
   "execution_count": null,
   "id": "668c70df",
   "metadata": {},
   "outputs": [],
   "source": [
    "print(\"Accuracy:\",metrics.accuracy_score(knn_test_y, pred_y))\n",
    "print(\"Precision:\",metrics.precision_score(knn_test_y, pred_y))\n",
    "print(\"Recall:\",metrics.recall_score(knn_test_y, pred_y))"
   ]
  },
  {
   "cell_type": "code",
   "execution_count": null,
   "id": "f631f77b",
   "metadata": {},
   "outputs": [],
   "source": [
    "#ROC Curve\n",
    "y_pred_proba = knn.predict_proba(knn_test_x)[::,1]\n",
    "fpr, tpr, _ = metrics.roc_curve(knn_test_y,  y_pred_proba)\n",
    "auc = metrics.roc_auc_score(knn_test_y, y_pred_proba)\n",
    "plt.title('KNN ROC Curve', y=1.1)\n",
    "plt.plot(fpr,tpr,label=\"data, auc=\"+str(auc))\n",
    "plt.legend(loc=4)\n",
    "plt.show()"
   ]
  },
  {
   "cell_type": "markdown",
   "id": "335dc728",
   "metadata": {},
   "source": [
    "## Random Forest"
   ]
  },
  {
   "cell_type": "code",
   "execution_count": null,
   "id": "f39d5416",
   "metadata": {},
   "outputs": [],
   "source": [
    "cart_df.dtypes"
   ]
  },
  {
   "cell_type": "code",
   "execution_count": null,
   "id": "fead3912",
   "metadata": {},
   "outputs": [],
   "source": [
    "cart_df = cart_df.drop(columns='Country_x')"
   ]
  },
  {
   "cell_type": "code",
   "execution_count": null,
   "id": "ca3eeb7b",
   "metadata": {},
   "outputs": [],
   "source": [
    "rfc_x=cart_df.drop(columns='Default')\n",
    "rfc_y=cart_df.Default"
   ]
  },
  {
   "cell_type": "code",
   "execution_count": null,
   "id": "cea28d47",
   "metadata": {},
   "outputs": [],
   "source": [
    "rfc_train_x, rfc_test_x, rfc_train_y, rfc_test_y = train_test_split(rfc_x, rfc_y, test_size=0.3, random_state=1)"
   ]
  },
  {
   "cell_type": "code",
   "execution_count": null,
   "id": "4ffbdef5",
   "metadata": {},
   "outputs": [],
   "source": [
    "#parameters preparation\n",
    "n_estimators = np.arange(200,400,20)\n",
    "max_features =['auto','sqrt']\n",
    "max_depth = np.arange(0,20,5)\n",
    "min_samples_split = np.arange(10,15,1)\n",
    "min_samples_leaf = np.arange(4)\n",
    "bootstrap = [True,False]\n",
    "criterion = ['entropy', 'gini']\n",
    "\n",
    "rfc_param_grid = {'n_estimators': n_estimators,\n",
    "               'max_features': max_features,\n",
    "               'max_depth': max_depth,\n",
    "               'min_samples_split': min_samples_split,\n",
    "               'min_samples_leaf': min_samples_leaf,\n",
    "               'bootstrap': bootstrap,\n",
    "               'criterion': criterion}"
   ]
  },
  {
   "cell_type": "code",
   "execution_count": null,
   "id": "f2a2b119",
   "metadata": {},
   "outputs": [],
   "source": [
    "#tuning parameters\n",
    "rfc_grid = GridSearchCV(estimator=RandomForestClassifier(),\n",
    "                     param_grid = rfc_param_grid,\n",
    "                     cv=5, verbose = 2,\n",
    "                     n_jobs=-1)\n",
    "rfc_grid.fit(rfc_train_x,rfc_train_y)\n",
    "print('Best Score:', rfc_grid.best_score_)\n",
    "print('Best Parameter:', rfc_grid.best_params_)"
   ]
  },
  {
   "cell_type": "code",
   "execution_count": null,
   "id": "e8b7d51b",
   "metadata": {},
   "outputs": [],
   "source": [
    "rfc = RandomForestClassifier(n_estimators=280,\n",
    "                            min_samples_split=10,\n",
    "                            min_samples_leaf=3,\n",
    "                            max_features='sqrt',\n",
    "                            max_depth=15,\n",
    "                            bootstrap=True)\n",
    "rfc = rfc.fit(rfc_train_x,rfc_train_y)"
   ]
  },
  {
   "cell_type": "code",
   "execution_count": null,
   "id": "eb141a8f",
   "metadata": {},
   "outputs": [],
   "source": [
    "#training model result\n",
    "pred_y = rfc.predict(rfc_train_x)\n",
    "print(classificationSummary(rfc_train_y,pred_y))\n",
    "print(classification_report(rfc_train_y,pred_y))"
   ]
  },
  {
   "cell_type": "code",
   "execution_count": null,
   "id": "5af66dcd",
   "metadata": {},
   "outputs": [],
   "source": [
    "#testing model resut\n",
    "pred_y = rfc.predict(rfc_test_x)\n",
    "print(classificationSummary(rfc_test_y,pred_y))\n",
    "print(classification_report(rfc_test_y,pred_y))"
   ]
  },
  {
   "cell_type": "code",
   "execution_count": null,
   "id": "c46da270",
   "metadata": {},
   "outputs": [],
   "source": [
    "rfc_matrix =  metrics.confusion_matrix(rfc_test_y, pred_y)"
   ]
  },
  {
   "cell_type": "code",
   "execution_count": null,
   "id": "0883129d",
   "metadata": {},
   "outputs": [],
   "source": [
    "#Confusion matrix\n",
    "class_names=[0,1] # name  of classes\n",
    "fig, ax = plt.subplots()\n",
    "tick_marks = np.arange(len(class_names))\n",
    "plt.xticks(tick_marks, class_names)\n",
    "plt.yticks(tick_marks, class_names)\n",
    "sns.heatmap(pd.DataFrame(rfc_matrix), annot=True, cmap=\"RdYlBu\" ,fmt='g') #heatmap\n",
    "ax.xaxis.set_label_position(\"top\")\n",
    "plt.tight_layout()\n",
    "plt.title('Random Forest Confusion matrix', y=1.1)\n",
    "plt.ylabel('Actual default')\n",
    "plt.xlabel('Predicted default')"
   ]
  },
  {
   "cell_type": "code",
   "execution_count": null,
   "id": "6735af3c",
   "metadata": {},
   "outputs": [],
   "source": [
    "print(\"Accuracy:\",metrics.accuracy_score(rfc_test_y, pred_y))\n",
    "print(\"Precision:\",metrics.precision_score(rfc_test_y, pred_y))\n",
    "print(\"Recall:\",metrics.recall_score(rfc_test_y, pred_y))"
   ]
  },
  {
   "cell_type": "code",
   "execution_count": null,
   "id": "da654cb9",
   "metadata": {},
   "outputs": [],
   "source": [
    "#ROC Curve\n",
    "y_pred_proba = rfc.predict_proba(rfc_test_x)[::,1]\n",
    "fpr, tpr, _ = metrics.roc_curve(rfc_test_y,  y_pred_proba)\n",
    "auc = metrics.roc_auc_score(rfc_test_y, y_pred_proba)\n",
    "plt.title('RFC ROC Curve', y=1.1)\n",
    "plt.plot(fpr,tpr,label=\"data, auc=\"+str(auc))\n",
    "plt.legend(loc=4)\n",
    "plt.show()"
   ]
  },
  {
   "cell_type": "markdown",
   "id": "2bf2d8ff",
   "metadata": {},
   "source": [
    "Random Forest's ROC curve is great in identifiying the true positives with a rate of 96.83%."
   ]
  },
  {
   "cell_type": "code",
   "execution_count": null,
   "id": "a487c047",
   "metadata": {},
   "outputs": [],
   "source": [
    "# rfc model predicted default\n",
    "rfc_test_x['default'] = pred_y"
   ]
  },
  {
   "cell_type": "code",
   "execution_count": null,
   "id": "c21a56f0",
   "metadata": {},
   "outputs": [],
   "source": [
    "# real default\n",
    "rfc_test_x['Default'] = rfc_test_y"
   ]
  },
  {
   "cell_type": "code",
   "execution_count": null,
   "id": "7c1051c0",
   "metadata": {},
   "outputs": [],
   "source": [
    "#get more information of the test datasets(including previously dropped columns) \n",
    "output_df = pd.merge(rfc_test_x,df1,how = 'inner',left_index=True,right_index=True)"
   ]
  },
  {
   "cell_type": "code",
   "execution_count": null,
   "id": "f52999fb",
   "metadata": {},
   "outputs": [],
   "source": [
    "output_df.to_csv('output_df2.csv')"
   ]
  },
  {
   "cell_type": "markdown",
   "id": "9c427297",
   "metadata": {},
   "source": [
    "# Strategy Comparison"
   ]
  },
  {
   "cell_type": "markdown",
   "id": "0a949069",
   "metadata": {},
   "source": [
    "## Strategy 1"
   ]
  },
  {
   "cell_type": "code",
   "execution_count": null,
   "id": "da5d533f",
   "metadata": {},
   "outputs": [],
   "source": [
    "output = output_df[['ExpectedReturn','default']]"
   ]
  },
  {
   "cell_type": "code",
   "execution_count": null,
   "id": "54c6f0f1",
   "metadata": {},
   "outputs": [],
   "source": [
    "output['undefault']=output['default'].apply(lambda x: 1 if x==0 else 0)"
   ]
  },
  {
   "cell_type": "code",
   "execution_count": null,
   "id": "0aedc456",
   "metadata": {},
   "outputs": [],
   "source": [
    "output['mixed_return'] = output_df['ExpectedReturn'] * output['undefault']"
   ]
  },
  {
   "cell_type": "code",
   "execution_count": null,
   "id": "e281ab91",
   "metadata": {},
   "outputs": [],
   "source": [
    "#average return of all loans in the test datasets\n",
    "np.mean(output['mixed_return'])"
   ]
  },
  {
   "cell_type": "code",
   "execution_count": null,
   "id": "a25c8403",
   "metadata": {},
   "outputs": [],
   "source": [
    "output1 = output[output.default==0]"
   ]
  },
  {
   "cell_type": "code",
   "execution_count": null,
   "id": "61509c76",
   "metadata": {},
   "outputs": [],
   "source": [
    "#average return of all predicted undefault loans in the test datasets\n",
    "np.mean(output1['mixed_return'])"
   ]
  },
  {
   "cell_type": "markdown",
   "id": "e62a1c3e",
   "metadata": {},
   "source": [
    "## Strategy 2"
   ]
  },
  {
   "cell_type": "code",
   "execution_count": null,
   "id": "f386c0fd",
   "metadata": {},
   "outputs": [],
   "source": [
    "import numpy as np # linear algebra\n",
    "import pandas as pd \n",
    "pd.set_option('display.max_columns', 500)\n",
    "from sklearn import preprocessing\n",
    "import warnings\n",
    "import matplotlib.pyplot as plt\n",
    "import seaborn as sns\n",
    "warnings.filterwarnings(\"ignore\")"
   ]
  },
  {
   "cell_type": "code",
   "execution_count": null,
   "id": "cf581742",
   "metadata": {},
   "outputs": [],
   "source": [
    "df = pd.read_csv('output_df2.csv')"
   ]
  },
  {
   "cell_type": "code",
   "execution_count": null,
   "id": "20a54cfa",
   "metadata": {},
   "outputs": [],
   "source": [
    "df.dropna(subset=['ActiveLateLastPaymentCategory'],inplace= True)"
   ]
  },
  {
   "cell_type": "code",
   "execution_count": null,
   "id": "b927fec7",
   "metadata": {},
   "outputs": [],
   "source": [
    "df.Rating.value_counts()"
   ]
  },
  {
   "cell_type": "code",
   "execution_count": null,
   "id": "120f1fe1",
   "metadata": {},
   "outputs": [],
   "source": [
    "# Since there are not many loans under 'AA' category, we will merge 'A' and 'AA' together.\n",
    "df['Rating'] = df.Rating.apply(lambda x: 'A or above' if x in ('A','AA') else x)"
   ]
  },
  {
   "cell_type": "code",
   "execution_count": null,
   "id": "9f470a1e",
   "metadata": {},
   "outputs": [],
   "source": [
    "df.Rating.value_counts()"
   ]
  },
  {
   "cell_type": "code",
   "execution_count": null,
   "id": "eb5e0751",
   "metadata": {},
   "outputs": [],
   "source": [
    "#our strategy - only pick predicted undefault loans \n",
    "df3 = df[df.default==0]"
   ]
  },
  {
   "cell_type": "code",
   "execution_count": null,
   "id": "5f917ce3",
   "metadata": {},
   "outputs": [],
   "source": [
    "t = 0\n",
    "for i in range(500):\n",
    "    #Bondora's strategy\n",
    "    df2 = df.groupby('Rating', group_keys=False).apply(lambda x: x.sample(10))\n",
    "    df2['UnDefaulted'] = df2.Default.apply(lambda x:0 if x==1 else 1 )\n",
    "    df2['mixed_return'] = df2['ExpectedReturn'] * df2['UnDefaulted']\n",
    "    bondora_return = np.mean(df2['mixed_return'])\n",
    "    \n",
    "    #our strategy\n",
    "    df4 = df3.groupby('Rating', group_keys=False).apply(lambda x: x.sample(10))\n",
    "    df4['UnDefaulted'] = df4.Default.apply(lambda x:0 if x==1 else 1 )\n",
    "    df4['mixed_return'] = df4['ExpectedReturn'] * df4['UnDefaulted']\n",
    "    our_return = np.mean(df4['mixed_return'])\n",
    "    #calculate how many times our strategy beat Bondora's\n",
    "    if bondora_return<our_return:\n",
    "        t += 1\n",
    "# Shows #times our strategy beat Bondora's\n",
    "print(t)"
   ]
  }
 ],
 "metadata": {
  "kernelspec": {
   "display_name": "Python 3",
   "language": "python",
   "name": "python3"
  },
  "language_info": {
   "codemirror_mode": {
    "name": "ipython",
    "version": 3
   },
   "file_extension": ".py",
   "mimetype": "text/x-python",
   "name": "python",
   "nbconvert_exporter": "python",
   "pygments_lexer": "ipython3",
   "version": "3.8.8"
  }
 },
 "nbformat": 4,
 "nbformat_minor": 5
}
